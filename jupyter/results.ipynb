{
 "cells": [
  {
   "cell_type": "markdown",
   "metadata": {},
   "source": [
    "# Results BA Network Explosive Percolation\n"
   ]
  },
  {
   "cell_type": "code",
   "execution_count": 35,
   "metadata": {},
   "outputs": [],
   "source": [
    "import pandas as pd\n",
    "import matplotlib.pyplot as plt\n",
    "import seaborn as sns\n",
    "import numpy as np\n",
    "\n",
    "sns.set()"
   ]
  },
  {
   "cell_type": "code",
   "execution_count": 64,
   "metadata": {},
   "outputs": [],
   "source": [
    "df = pd.DataFrame(index=[2,3,4,5,6,7,8,9,10], columns=['tc', 'one_by_nu', 'alpha_by_nu', 'beta_by_nu', 'gamma_by_nu'], dtype=float)\n",
    "# df.columns=['tc', 'one_by_nu', 'alpha_by_nu', 'beta_by_nu', 'gamma_by_nu', 'nu', 'alpha', 'beta', 'gamma']"
   ]
  },
  {
   "cell_type": "code",
   "execution_count": 65,
   "metadata": {},
   "outputs": [],
   "source": [
    "df.fillna(0.0, inplace=True)"
   ]
  },
  {
   "cell_type": "code",
   "execution_count": 66,
   "metadata": {},
   "outputs": [],
   "source": [
    "df.index.name=\"M\""
   ]
  },
  {
   "cell_type": "code",
   "execution_count": 67,
   "metadata": {},
   "outputs": [
    {
     "data": {
      "text/plain": [
       "0.0"
      ]
     },
     "execution_count": 67,
     "metadata": {},
     "output_type": "execute_result"
    }
   ],
   "source": [
    "name='tc'\n",
    "M=2\n",
    "df[name][M]"
   ]
  },
  {
   "cell_type": "code",
   "execution_count": 68,
   "metadata": {},
   "outputs": [
    {
     "data": {
      "text/html": [
       "<div>\n",
       "<style scoped>\n",
       "    .dataframe tbody tr th:only-of-type {\n",
       "        vertical-align: middle;\n",
       "    }\n",
       "\n",
       "    .dataframe tbody tr th {\n",
       "        vertical-align: top;\n",
       "    }\n",
       "\n",
       "    .dataframe thead th {\n",
       "        text-align: right;\n",
       "    }\n",
       "</style>\n",
       "<table border=\"1\" class=\"dataframe\">\n",
       "  <thead>\n",
       "    <tr style=\"text-align: right;\">\n",
       "      <th></th>\n",
       "      <th>M</th>\n",
       "      <th>tc</th>\n",
       "      <th>one_by_nu</th>\n",
       "      <th>alpha_by_nu</th>\n",
       "      <th>beta_by_nu</th>\n",
       "      <th>gamma_by_nu</th>\n",
       "    </tr>\n",
       "  </thead>\n",
       "  <tbody>\n",
       "    <tr>\n",
       "      <td>0</td>\n",
       "      <td>2</td>\n",
       "      <td>0.727270</td>\n",
       "      <td>0.513875</td>\n",
       "      <td>0.514096</td>\n",
       "      <td>0.062249</td>\n",
       "      <td>0.468283</td>\n",
       "    </tr>\n",
       "    <tr>\n",
       "      <td>1</td>\n",
       "      <td>3</td>\n",
       "      <td>0.884769</td>\n",
       "      <td>0.514780</td>\n",
       "      <td>0.558321</td>\n",
       "      <td>0.015210</td>\n",
       "      <td>0.490704</td>\n",
       "    </tr>\n",
       "    <tr>\n",
       "      <td>2</td>\n",
       "      <td>4</td>\n",
       "      <td>0.944485</td>\n",
       "      <td>0.513591</td>\n",
       "      <td>0.570172</td>\n",
       "      <td>0.005178</td>\n",
       "      <td>0.499559</td>\n",
       "    </tr>\n",
       "    <tr>\n",
       "      <td>3</td>\n",
       "      <td>5</td>\n",
       "      <td>0.971252</td>\n",
       "      <td>0.512185</td>\n",
       "      <td>0.570930</td>\n",
       "      <td>0.002189</td>\n",
       "      <td>0.501066</td>\n",
       "    </tr>\n",
       "    <tr>\n",
       "      <td>4</td>\n",
       "      <td>6</td>\n",
       "      <td>0.984473</td>\n",
       "      <td>0.510556</td>\n",
       "      <td>0.567879</td>\n",
       "      <td>0.001097</td>\n",
       "      <td>0.501938</td>\n",
       "    </tr>\n",
       "    <tr>\n",
       "      <td>5</td>\n",
       "      <td>7</td>\n",
       "      <td>0.991434</td>\n",
       "      <td>0.518313</td>\n",
       "      <td>0.559287</td>\n",
       "      <td>0.000563</td>\n",
       "      <td>0.502215</td>\n",
       "    </tr>\n",
       "    <tr>\n",
       "      <td>6</td>\n",
       "      <td>8</td>\n",
       "      <td>0.995199</td>\n",
       "      <td>0.523395</td>\n",
       "      <td>0.540175</td>\n",
       "      <td>0.000322</td>\n",
       "      <td>0.502137</td>\n",
       "    </tr>\n",
       "    <tr>\n",
       "      <td>7</td>\n",
       "      <td>9</td>\n",
       "      <td>0.997183</td>\n",
       "      <td>0.510787</td>\n",
       "      <td>0.502010</td>\n",
       "      <td>0.000294</td>\n",
       "      <td>0.502052</td>\n",
       "    </tr>\n",
       "  </tbody>\n",
       "</table>\n",
       "</div>"
      ],
      "text/plain": [
       "   M        tc  one_by_nu  alpha_by_nu  beta_by_nu  gamma_by_nu\n",
       "0  2  0.727270   0.513875     0.514096    0.062249     0.468283\n",
       "1  3  0.884769   0.514780     0.558321    0.015210     0.490704\n",
       "2  4  0.944485   0.513591     0.570172    0.005178     0.499559\n",
       "3  5  0.971252   0.512185     0.570930    0.002189     0.501066\n",
       "4  6  0.984473   0.510556     0.567879    0.001097     0.501938\n",
       "5  7  0.991434   0.518313     0.559287    0.000563     0.502215\n",
       "6  8  0.995199   0.523395     0.540175    0.000322     0.502137\n",
       "7  9  0.997183   0.510787     0.502010    0.000294     0.502052"
      ]
     },
     "execution_count": 68,
     "metadata": {},
     "output_type": "execute_result"
    }
   ],
   "source": [
    "filename = \"BA_explosive_exponents\"\n",
    "pd.read_csv(filename)\n",
    "\n",
    "# df.to_csv(filename)\n",
    "\n"
   ]
  },
  {
   "cell_type": "markdown",
   "metadata": {},
   "source": [
    "### $M=2$ Digonto vai\n"
   ]
  },
  {
   "cell_type": "code",
   "execution_count": 69,
   "metadata": {},
   "outputs": [],
   "source": [
    "tc=0.7 # not exactly \n",
    "nu=1.946 \n",
    "alpha=0.987 \n",
    "beta=0.090 \n",
    "gamma=0.884"
   ]
  },
  {
   "cell_type": "code",
   "execution_count": 70,
   "metadata": {},
   "outputs": [
    {
     "data": {
      "text/plain": [
       "0.5071942446043165"
      ]
     },
     "execution_count": 70,
     "metadata": {},
     "output_type": "execute_result"
    }
   ],
   "source": [
    "alpha/nu"
   ]
  },
  {
   "cell_type": "markdown",
   "metadata": {},
   "source": [
    "### $M=2$"
   ]
  },
  {
   "cell_type": "code",
   "execution_count": 71,
   "metadata": {},
   "outputs": [],
   "source": [
    "M=2\n",
    "\n",
    "df['tc'][M] = 0.72775\n",
    "\n",
    "df['tc'][M] = 0.72725 # susceptibility collapse\n",
    "df['tc'][M] = 0.72727 # specific heat collapse\n",
    "\n",
    "# find it from order parameter\n",
    "df['one_by_nu'][M] = 0.513874614594039 # Digonto vai exponent is same it seems. but recheck. \n",
    "\n",
    "# y scaling exponents are different because of single convolution. but Digonto vai did 4 times convolution\n",
    "df['gamma_by_nu'][M] = 0.4682830896280964 # better collapse than digonto vai exponent\n",
    "df['beta_by_nu'][M] = 0.06224871531346351 # better collapse in bigger range\n",
    "df['alpha_by_nu'][M] = 0.514096250213949 # "
   ]
  },
  {
   "cell_type": "markdown",
   "metadata": {},
   "source": [
    "### $M=3$"
   ]
  },
  {
   "cell_type": "code",
   "execution_count": 72,
   "metadata": {},
   "outputs": [],
   "source": [
    "M=3\n",
    "\n",
    "df['tc'][M] = 0.8848007329942904 # specific heat ** works for susceptibility too\n",
    "df['tc'][M] = 0.8847689551165168 # susceptibility\n",
    "\n",
    "\n",
    "df['one_by_nu'][M] = 0.5147796578601219 # From Order Parameter\n",
    "\n",
    "df['gamma_by_nu'][M] = 0.4907038495784963\n",
    "df['beta_by_nu'][M] = 0.015210226845351536\n",
    "df['alpha_by_nu'][M] = 0.5583214730769456"
   ]
  },
  {
   "cell_type": "markdown",
   "metadata": {},
   "source": [
    "### $M = 4$"
   ]
  },
  {
   "cell_type": "code",
   "execution_count": 73,
   "metadata": {},
   "outputs": [],
   "source": [
    "M=4\n",
    "df['tc'][M] = 0.944322\n",
    "df['tc'][M] = 0.944485190729756 # specific heat, straight line, depends on 1/nu\n",
    "\n",
    "df['one_by_nu'][M] = 0.5035909896264279 # From Order Parameter, depends on tc\n",
    "df['one_by_nu'][M] = 0.5185909896264279 # better collapse for specific heat\n",
    "df['one_by_nu'][M] = 0.5135909896264279 # better collapse for susceptibility\n",
    "\n",
    "df['beta_by_nu'][M]=0.0051780431466236345\n",
    "df['alpha_by_nu'][M] = 0.5701717542856257\n",
    "df['gamma_by_nu'][M]=0.49955852538122003"
   ]
  },
  {
   "cell_type": "markdown",
   "metadata": {},
   "source": [
    "### $M=5$"
   ]
  },
  {
   "cell_type": "code",
   "execution_count": 74,
   "metadata": {},
   "outputs": [],
   "source": [
    "M=5\n",
    "df['tc'][M] = 0.971117\n",
    "df['tc'][M] = 0.9712994685782114 # specific heat, straight line, depends on 1/nu\n",
    "df['tc'][M] = 0.9712524230802962 # susceptibility, straight line, depends on 1/nu\n",
    "\n",
    "\n",
    "df['one_by_nu'][M] = 0.5121847779791164 # From Order Parameter, depends on tc\n",
    "# df['one_by_nu'][M] = 0# better collapse for specific heat\n",
    "# df['one_by_nu'][M] = 0 # better collapse for susceptibility\n",
    "\n",
    "df['beta_by_nu'][M]=0.002189338554926864\n",
    "df['alpha_by_nu'][M] = 0.5709302763399081\n",
    "df['gamma_by_nu'][M]=0.5010657177122594"
   ]
  },
  {
   "cell_type": "markdown",
   "metadata": {},
   "source": [
    "### $M=6$"
   ]
  },
  {
   "cell_type": "code",
   "execution_count": 75,
   "metadata": {},
   "outputs": [],
   "source": [
    "M=6\n",
    "\n",
    "df['tc'][M] = 0.9845545066738824 # specific heat, straight line, depends on 1/nu\n",
    "df['tc'][M] = 0.9844725244423395 # susceptibility, straight line, depends on 1/nu\n",
    "\n",
    "\n",
    "\n",
    "df['one_by_nu'][M] = 0.5037072777685714 # From Order Parameter, depends on tc\n",
    "df['one_by_nu'][M] = 0.5105556312194173 # From susceptibility tc Parameter, depends on tc\n",
    "\n",
    "df['beta_by_nu'][M]= 0.0010973409840844652\n",
    "df['alpha_by_nu'][M] = 0.567879155936502\n",
    "df['gamma_by_nu'][M]= 0.5019377234808523"
   ]
  },
  {
   "cell_type": "markdown",
   "metadata": {},
   "source": [
    "### $M=7$"
   ]
  },
  {
   "cell_type": "code",
   "execution_count": 76,
   "metadata": {},
   "outputs": [],
   "source": [
    "M=7\n",
    "\n",
    "df['tc'][M] = 0.9914981154465992 # specific heat, straight line, depends on 1/nu\n",
    "df['tc'][M] = 0.991369804576241 # susceptibility, straight line, depends on 1/nu\n",
    "df['tc'][M] = 0.9914339600114201 # in the middle\n",
    "\n",
    "\n",
    "df['one_by_nu'][M] = 0.5094789034354745 # From Order Parameter, at x = 0.05, depends on tc\n",
    "df['one_by_nu'][M] = 0.51831264512347 # From Order Parameter, at x = 0.95, depends on tc\n",
    "# df['one_by_nu'][M] = 0. # From susceptibility tc Parameter, depends on tc\n",
    "\n",
    "df['beta_by_nu'][M]= 0.000563332711546766\n",
    "df['alpha_by_nu'][M] = 0.5592868253232689\n",
    "df['gamma_by_nu'][M]= 0.5022154798569013"
   ]
  },
  {
   "cell_type": "markdown",
   "metadata": {},
   "source": [
    "### $M=8$"
   ]
  },
  {
   "cell_type": "code",
   "execution_count": 77,
   "metadata": {},
   "outputs": [],
   "source": [
    "M=8\n",
    "\n",
    "df['tc'][M] = 0.9952722435116937 # specific heat, straight line, depends on 1/nu\n",
    "df['tc'][M] = 0.9951049405863498 # susceptibility, straight line, depends on 1/nu\n",
    "df['tc'][M] = 0.9951985920490225 # in the middle\n",
    "\n",
    "\n",
    "df['one_by_nu'][M] = 0. # From Order Parameter, at x = 0.05, depends on tc\n",
    "df['one_by_nu'][M] = 0.5233953305075367 # From Order Parameter, at x = 0.98, depends on tc\n",
    "# df['one_by_nu'][M] = 0. # From susceptibility tc Parameter, depends on tc\n",
    "\n",
    "df['beta_by_nu'][M]= 0.0003220786211391154\n",
    "df['alpha_by_nu'][M] = 0.5401749720626219\n",
    "df['gamma_by_nu'][M]= 0.5021366646706512"
   ]
  },
  {
   "cell_type": "markdown",
   "metadata": {},
   "source": [
    "### $M=9$"
   ]
  },
  {
   "cell_type": "code",
   "execution_count": 80,
   "metadata": {},
   "outputs": [],
   "source": [
    "M=9\n",
    "\n",
    "df['tc'][M] = 0.9974341991107397 # specific heat, straight line, depends on 1/nu\n",
    "df['tc'][M] = 0.997183232056865 # susceptibility, straight line, depends on 1/nu\n",
    "df['tc'][M] = 0.997283232056865 # in the middle. collapses both partially\n",
    "\n",
    "\n",
    "df['one_by_nu'][M] = 0.5107873978212114 # From Order Parameter, at x = 0.02, depends on tc\n",
    "# df['one_by_nu'][M] = 0. # From Order Parameter, at x = 0.98, depends on tc\n",
    "# df['one_by_nu'][M] = 0. # From susceptibility tc Parameter, depends on tc\n",
    "\n",
    "df['beta_by_nu'][M]= 0.00029411558739151397 # at line x=2.4\n",
    "df['alpha_by_nu'][M] = 0.5020103214429655\n",
    "df['gamma_by_nu'][M]= 0.5020521616446415"
   ]
  },
  {
   "cell_type": "markdown",
   "metadata": {},
   "source": [
    "### $M=10$"
   ]
  },
  {
   "cell_type": "code",
   "execution_count": 92,
   "metadata": {},
   "outputs": [],
   "source": [
    "M=10\n",
    "\n",
    "df['tc'][M] = 0.9986511635765238 # specific heat, straight line, depends on 1/nu\n",
    "df['tc'][M] = 0.9983580894495375 # susceptibility, straight line, depends on 1/nu. gives same 1/nu\n",
    "df['tc'][M] = 0.9984511635765238 # in the middle. collapses both partially\n",
    "\n",
    "\n",
    "df['one_by_nu'][M] = 0.5185414637112808 # From Order Parameter, at x = 0.02, depends on tc\n",
    "# df['one_by_nu'][M] = 0. # From Order Parameter, at x = 0.98, depends on tc\n",
    "# df['one_by_nu'][M] = 0. # From susceptibility tc Parameter, depends on tc\n",
    "\n",
    "\n",
    "df['beta_by_nu'][M]=0.00021186361856386868\n",
    "# can be considered zero since zero gives std deviation of 10^-5 and 0.0001 gives 10^-5\n",
    "# meaning with a non zero exponent we do not get any better collapse than a zero exponent.\n",
    "# measured at x=3\n",
    "# df['beta_by_nu'][M]= 0. \n",
    "df['alpha_by_nu'][M] = 0.4368156449584002\n",
    "df['gamma_by_nu'][M]= 0.5021094257058025"
   ]
  },
  {
   "cell_type": "code",
   "execution_count": null,
   "metadata": {},
   "outputs": [],
   "source": []
  },
  {
   "cell_type": "code",
   "execution_count": 86,
   "metadata": {},
   "outputs": [
    {
     "data": {
      "text/plain": [
       "0.9951885920490218"
      ]
     },
     "execution_count": 86,
     "metadata": {},
     "output_type": "execute_result"
    }
   ],
   "source": [
    "(0.9951049405863498 + 0.9952722435116937) / 2"
   ]
  },
  {
   "cell_type": "code",
   "execution_count": 93,
   "metadata": {},
   "outputs": [
    {
     "data": {
      "text/html": [
       "<div>\n",
       "<style scoped>\n",
       "    .dataframe tbody tr th:only-of-type {\n",
       "        vertical-align: middle;\n",
       "    }\n",
       "\n",
       "    .dataframe tbody tr th {\n",
       "        vertical-align: top;\n",
       "    }\n",
       "\n",
       "    .dataframe thead th {\n",
       "        text-align: right;\n",
       "    }\n",
       "</style>\n",
       "<table border=\"1\" class=\"dataframe\">\n",
       "  <thead>\n",
       "    <tr style=\"text-align: right;\">\n",
       "      <th></th>\n",
       "      <th>tc</th>\n",
       "      <th>one_by_nu</th>\n",
       "      <th>alpha_by_nu</th>\n",
       "      <th>beta_by_nu</th>\n",
       "      <th>gamma_by_nu</th>\n",
       "    </tr>\n",
       "    <tr>\n",
       "      <th>M</th>\n",
       "      <th></th>\n",
       "      <th></th>\n",
       "      <th></th>\n",
       "      <th></th>\n",
       "      <th></th>\n",
       "    </tr>\n",
       "  </thead>\n",
       "  <tbody>\n",
       "    <tr>\n",
       "      <td>2</td>\n",
       "      <td>0.727270</td>\n",
       "      <td>0.513875</td>\n",
       "      <td>0.514096</td>\n",
       "      <td>0.062249</td>\n",
       "      <td>0.468283</td>\n",
       "    </tr>\n",
       "    <tr>\n",
       "      <td>3</td>\n",
       "      <td>0.884769</td>\n",
       "      <td>0.514780</td>\n",
       "      <td>0.558321</td>\n",
       "      <td>0.015210</td>\n",
       "      <td>0.490704</td>\n",
       "    </tr>\n",
       "    <tr>\n",
       "      <td>4</td>\n",
       "      <td>0.944485</td>\n",
       "      <td>0.513591</td>\n",
       "      <td>0.570172</td>\n",
       "      <td>0.005178</td>\n",
       "      <td>0.499559</td>\n",
       "    </tr>\n",
       "    <tr>\n",
       "      <td>5</td>\n",
       "      <td>0.971252</td>\n",
       "      <td>0.512185</td>\n",
       "      <td>0.570930</td>\n",
       "      <td>0.002189</td>\n",
       "      <td>0.501066</td>\n",
       "    </tr>\n",
       "    <tr>\n",
       "      <td>6</td>\n",
       "      <td>0.984473</td>\n",
       "      <td>0.510556</td>\n",
       "      <td>0.567879</td>\n",
       "      <td>0.001097</td>\n",
       "      <td>0.501938</td>\n",
       "    </tr>\n",
       "    <tr>\n",
       "      <td>7</td>\n",
       "      <td>0.991434</td>\n",
       "      <td>0.518313</td>\n",
       "      <td>0.559287</td>\n",
       "      <td>0.000563</td>\n",
       "      <td>0.502215</td>\n",
       "    </tr>\n",
       "    <tr>\n",
       "      <td>8</td>\n",
       "      <td>0.995199</td>\n",
       "      <td>0.523395</td>\n",
       "      <td>0.540175</td>\n",
       "      <td>0.000322</td>\n",
       "      <td>0.502137</td>\n",
       "    </tr>\n",
       "    <tr>\n",
       "      <td>9</td>\n",
       "      <td>0.997283</td>\n",
       "      <td>0.510787</td>\n",
       "      <td>0.502010</td>\n",
       "      <td>0.000294</td>\n",
       "      <td>0.502052</td>\n",
       "    </tr>\n",
       "    <tr>\n",
       "      <td>10</td>\n",
       "      <td>0.998451</td>\n",
       "      <td>0.518541</td>\n",
       "      <td>0.436816</td>\n",
       "      <td>0.000212</td>\n",
       "      <td>0.502109</td>\n",
       "    </tr>\n",
       "  </tbody>\n",
       "</table>\n",
       "</div>"
      ],
      "text/plain": [
       "          tc  one_by_nu  alpha_by_nu  beta_by_nu  gamma_by_nu\n",
       "M                                                            \n",
       "2   0.727270   0.513875     0.514096    0.062249     0.468283\n",
       "3   0.884769   0.514780     0.558321    0.015210     0.490704\n",
       "4   0.944485   0.513591     0.570172    0.005178     0.499559\n",
       "5   0.971252   0.512185     0.570930    0.002189     0.501066\n",
       "6   0.984473   0.510556     0.567879    0.001097     0.501938\n",
       "7   0.991434   0.518313     0.559287    0.000563     0.502215\n",
       "8   0.995199   0.523395     0.540175    0.000322     0.502137\n",
       "9   0.997283   0.510787     0.502010    0.000294     0.502052\n",
       "10  0.998451   0.518541     0.436816    0.000212     0.502109"
      ]
     },
     "execution_count": 93,
     "metadata": {},
     "output_type": "execute_result"
    }
   ],
   "source": [
    "df"
   ]
  },
  {
   "cell_type": "code",
   "execution_count": 94,
   "metadata": {},
   "outputs": [],
   "source": [
    "df.to_csv(filename)"
   ]
  },
  {
   "cell_type": "code",
   "execution_count": 95,
   "metadata": {},
   "outputs": [],
   "source": [
    "def plot_exponent(df, key):\n",
    "    ex=df[key]\n",
    "    M=list(df.index)\n",
    "    plt.plot(M, ex)"
   ]
  },
  {
   "cell_type": "code",
   "execution_count": 96,
   "metadata": {},
   "outputs": [
    {
     "data": {
      "image/png": "[encoded data removed]",
      "text/plain": [
       "<Figure size 432x288 with 1 Axes>"
      ]
     },
     "metadata": {},
     "output_type": "display_data"
    }
   ],
   "source": [
    "plot_exponent(df, 'beta_by_nu')"
   ]
  },
  {
   "cell_type": "code",
   "execution_count": 97,
   "metadata": {},
   "outputs": [],
   "source": [
    "import scipy.stats as stat"
   ]
  },
  {
   "cell_type": "code",
   "execution_count": 98,
   "metadata": {},
   "outputs": [],
   "source": [
    "def plot_exponent_log(df, key):\n",
    "    ex=df[key]\n",
    "    M=list(df.index)\n",
    "    plt.plot(np.log(M), np.log(ex), 'o')\n",
    "    regress = stat.linregress(np.log(M), np.log(ex))\n",
    "    M = np.linspace(2, 15, 14)\n",
    "    y = regress[0]*np.log(M) + regress[1]\n",
    "    plt.plot(np.log(M), y)\n",
    "    print(regress)"
   ]
  },
  {
   "cell_type": "code",
   "execution_count": 99,
   "metadata": {},
   "outputs": [
    {
     "name": "stdout",
     "output_type": "stream",
     "text": [
      "LinregressResult(slope=-3.6432218866451085, intercept=-0.24994309879960497, rvalue=-0.9980233902294788, pvalue=1.1283022313816978e-09, stderr=0.08670749418392905)\n"
     ]
    },
    {
     "data": {
      "image/png": "[encoded data removed]",
      "text/plain": [
       "<Figure size 432x288 with 1 Axes>"
      ]
     },
     "metadata": {},
     "output_type": "display_data"
    }
   ],
   "source": [
    "plot_exponent_log(df, 'beta_by_nu')"
   ]
  },
  {
   "cell_type": "code",
   "execution_count": 59,
   "metadata": {},
   "outputs": [
    {
     "data": {
      "text/plain": [
       "-3.798068646300644"
      ]
     },
     "execution_count": 59,
     "metadata": {},
     "output_type": "execute_result"
    }
   ],
   "source": [
    "-3.798068646300644"
   ]
  },
  {
   "cell_type": "code",
   "execution_count": 60,
   "metadata": {},
   "outputs": [],
   "source": [
    "def get_beta_by_nu(M, ex=3.798):\n",
    "    return M**(-ex)"
   ]
  },
  {
   "cell_type": "code",
   "execution_count": 61,
   "metadata": {},
   "outputs": [
    {
     "data": {
      "text/plain": [
       "0.00011086400964417477"
      ]
     },
     "execution_count": 61,
     "metadata": {},
     "output_type": "execute_result"
    }
   ],
   "source": [
    "get_beta_by_nu(11)"
   ]
  },
  {
   "cell_type": "markdown",
   "metadata": {},
   "source": [
    "# Comments"
   ]
  },
  {
   "cell_type": "markdown",
   "metadata": {},
   "source": [
    "1. exponent $\\beta/\\nu$ seems to follow a power law with $M$ with exponent -3.798\n",
    "\n",
    "2. for M=10, $\\beta/\\nu$ can be considered zero since zero gives std deviation of $10^{-5}$ and $0.0002$ gives $10^{-5}$\n",
    " meaning with a non zero exponent we do not get any better collapse than a zero exponent. measured by line x=3. Moreover for larger $M$ measuring $\\beta/\\nu$ is very hard and it fluctuates more. "
   ]
  },
  {
   "cell_type": "code",
   "execution_count": null,
   "metadata": {},
   "outputs": [],
   "source": []
  }
 ],
 "metadata": {
  "kernelspec": {
   "display_name": "Python 3",
   "language": "python",
   "name": "python3"
  },
  "language_info": {
   "codemirror_mode": {
    "name": "ipython",
    "version": 3
   },
   "file_extension": ".py",
   "mimetype": "text/x-python",
   "name": "python",
   "nbconvert_exporter": "python",
   "pygments_lexer": "ipython3",
   "version": "3.6.8"
  }
 },
 "nbformat": 4,
 "nbformat_minor": 2
}
