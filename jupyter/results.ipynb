{
 "cells": [
  {
   "cell_type": "markdown",
   "metadata": {},
   "source": [
    "# Results BA Network Explosive Percolation\n"
   ]
  },
  {
   "cell_type": "code",
   "execution_count": 4,
   "metadata": {},
   "outputs": [],
   "source": [
    "import pandas as pd"
   ]
  },
  {
   "cell_type": "code",
   "execution_count": 6,
   "metadata": {},
   "outputs": [],
   "source": [
    "df = pd.DataFrame(index=[2,3,4,5,6,7,8,9,10], columns=['tc', 'one_by_nu', 'alpha_by_nu', 'beta_by_nu', 'gamma_by_nu'], dtype=float)\n",
    "# df.columns=['tc', 'one_by_nu', 'alpha_by_nu', 'beta_by_nu', 'gamma_by_nu', 'nu', 'alpha', 'beta', 'gamma']"
   ]
  },
  {
   "cell_type": "code",
   "execution_count": 7,
   "metadata": {},
   "outputs": [],
   "source": [
    "df.fillna(0.0, inplace=True)"
   ]
  },
  {
   "cell_type": "code",
   "execution_count": 8,
   "metadata": {},
   "outputs": [
    {
     "data": {
      "text/plain": [
       "0.0"
      ]
     },
     "execution_count": 8,
     "metadata": {},
     "output_type": "execute_result"
    }
   ],
   "source": [
    "name='tc'\n",
    "M=2\n",
    "df[name][M]"
   ]
  },
  {
   "cell_type": "markdown",
   "metadata": {},
   "source": [
    "### $M=2$ Digonto vai\n"
   ]
  },
  {
   "cell_type": "code",
   "execution_count": 9,
   "metadata": {},
   "outputs": [],
   "source": [
    "tc=0.7 # not exactly \n",
    "nu=1.946 \n",
    "alpha=0.987 \n",
    "beta=0.090 \n",
    "gamma=0.884"
   ]
  },
  {
   "cell_type": "code",
   "execution_count": 13,
   "metadata": {},
   "outputs": [
    {
     "data": {
      "text/plain": [
       "0.5071942446043165"
      ]
     },
     "execution_count": 13,
     "metadata": {},
     "output_type": "execute_result"
    }
   ],
   "source": [
    "alpha/nu"
   ]
  },
  {
   "cell_type": "markdown",
   "metadata": {},
   "source": [
    "### $M=2$"
   ]
  },
  {
   "cell_type": "code",
   "execution_count": 12,
   "metadata": {},
   "outputs": [],
   "source": [
    "M=2\n",
    "\n",
    "df['tc'][M] = 0.72775\n",
    "\n",
    "df['tc'][M] = 0.72725 # susceptibility collapse\n",
    "df['tc'][M] = 0.72727 # specific heat collapse\n",
    "\n",
    "df['one_by_nu'][M] = 0.513874614594039 # Digonto vai exponent is same it seems. but recheck\n",
    "\n",
    "# y scaling exponents are different because of single convolution. but Digonto vai did 4 times convolution\n",
    "df['gamma_by_nu'][M] = 0.4682830896280964 # better collapse than digonto vai exponent\n",
    "df['beta_by_nu'][M] = 0.06224871531346351 # better collapse in bigger range\n",
    "df['alpha_by_nu'][M] = 0.514096250213949 # "
   ]
  },
  {
   "cell_type": "markdown",
   "metadata": {},
   "source": [
    "### $M=3$"
   ]
  },
  {
   "cell_type": "code",
   "execution_count": 11,
   "metadata": {},
   "outputs": [
    {
     "data": {
      "text/html": [
       "<div>\n",
       "<style scoped>\n",
       "    .dataframe tbody tr th:only-of-type {\n",
       "        vertical-align: middle;\n",
       "    }\n",
       "\n",
       "    .dataframe tbody tr th {\n",
       "        vertical-align: top;\n",
       "    }\n",
       "\n",
       "    .dataframe thead th {\n",
       "        text-align: right;\n",
       "    }\n",
       "</style>\n",
       "<table border=\"1\" class=\"dataframe\">\n",
       "  <thead>\n",
       "    <tr style=\"text-align: right;\">\n",
       "      <th></th>\n",
       "      <th>tc</th>\n",
       "      <th>one_by_nu</th>\n",
       "      <th>alpha_by_nu</th>\n",
       "      <th>beta_by_nu</th>\n",
       "      <th>gamma_by_nu</th>\n",
       "    </tr>\n",
       "  </thead>\n",
       "  <tbody>\n",
       "    <tr>\n",
       "      <td>2</td>\n",
       "      <td>0.72727</td>\n",
       "      <td>0.513875</td>\n",
       "      <td>0.514096</td>\n",
       "      <td>0.062249</td>\n",
       "      <td>0.468283</td>\n",
       "    </tr>\n",
       "    <tr>\n",
       "      <td>3</td>\n",
       "      <td>0.00000</td>\n",
       "      <td>0.513875</td>\n",
       "      <td>0.514096</td>\n",
       "      <td>0.062249</td>\n",
       "      <td>0.468283</td>\n",
       "    </tr>\n",
       "    <tr>\n",
       "      <td>4</td>\n",
       "      <td>0.00000</td>\n",
       "      <td>0.513875</td>\n",
       "      <td>0.514096</td>\n",
       "      <td>0.062249</td>\n",
       "      <td>0.468283</td>\n",
       "    </tr>\n",
       "    <tr>\n",
       "      <td>5</td>\n",
       "      <td>0.00000</td>\n",
       "      <td>0.513875</td>\n",
       "      <td>0.514096</td>\n",
       "      <td>0.062249</td>\n",
       "      <td>0.468283</td>\n",
       "    </tr>\n",
       "    <tr>\n",
       "      <td>6</td>\n",
       "      <td>0.00000</td>\n",
       "      <td>0.513875</td>\n",
       "      <td>0.514096</td>\n",
       "      <td>0.062249</td>\n",
       "      <td>0.468283</td>\n",
       "    </tr>\n",
       "    <tr>\n",
       "      <td>7</td>\n",
       "      <td>0.00000</td>\n",
       "      <td>0.513875</td>\n",
       "      <td>0.514096</td>\n",
       "      <td>0.062249</td>\n",
       "      <td>0.468283</td>\n",
       "    </tr>\n",
       "    <tr>\n",
       "      <td>8</td>\n",
       "      <td>0.00000</td>\n",
       "      <td>0.513875</td>\n",
       "      <td>0.514096</td>\n",
       "      <td>0.062249</td>\n",
       "      <td>0.468283</td>\n",
       "    </tr>\n",
       "    <tr>\n",
       "      <td>9</td>\n",
       "      <td>0.00000</td>\n",
       "      <td>0.513875</td>\n",
       "      <td>0.514096</td>\n",
       "      <td>0.062249</td>\n",
       "      <td>0.468283</td>\n",
       "    </tr>\n",
       "    <tr>\n",
       "      <td>10</td>\n",
       "      <td>0.00000</td>\n",
       "      <td>0.513875</td>\n",
       "      <td>0.514096</td>\n",
       "      <td>0.062249</td>\n",
       "      <td>0.468283</td>\n",
       "    </tr>\n",
       "  </tbody>\n",
       "</table>\n",
       "</div>"
      ],
      "text/plain": [
       "         tc  one_by_nu  alpha_by_nu  beta_by_nu  gamma_by_nu\n",
       "2   0.72727   0.513875     0.514096    0.062249     0.468283\n",
       "3   0.00000   0.513875     0.514096    0.062249     0.468283\n",
       "4   0.00000   0.513875     0.514096    0.062249     0.468283\n",
       "5   0.00000   0.513875     0.514096    0.062249     0.468283\n",
       "6   0.00000   0.513875     0.514096    0.062249     0.468283\n",
       "7   0.00000   0.513875     0.514096    0.062249     0.468283\n",
       "8   0.00000   0.513875     0.514096    0.062249     0.468283\n",
       "9   0.00000   0.513875     0.514096    0.062249     0.468283\n",
       "10  0.00000   0.513875     0.514096    0.062249     0.468283"
      ]
     },
     "execution_count": 11,
     "metadata": {},
     "output_type": "execute_result"
    }
   ],
   "source": [
    "df"
   ]
  },
  {
   "cell_type": "code",
   "execution_count": null,
   "metadata": {},
   "outputs": [],
   "source": []
  }
 ],
 "metadata": {
  "kernelspec": {
   "display_name": "Python 3",
   "language": "python",
   "name": "python3"
  },
  "language_info": {
   "codemirror_mode": {
    "name": "ipython",
    "version": 3
   },
   "file_extension": ".py",
   "mimetype": "text/x-python",
   "name": "python",
   "nbconvert_exporter": "python",
   "pygments_lexer": "ipython3",
   "version": "3.6.8"
  }
 },
 "nbformat": 4,
 "nbformat_minor": 2
}
