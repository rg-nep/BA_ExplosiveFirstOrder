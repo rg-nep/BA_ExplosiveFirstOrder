{
 "cells": [
  {
   "cell_type": "markdown",
   "metadata": {},
   "source": [
    "# Results BA Network Explosive Percolation\n"
   ]
  },
  {
   "cell_type": "code",
   "execution_count": 94,
   "metadata": {},
   "outputs": [],
   "source": [
    "import pandas as pd\n",
    "import matplotlib.pyplot as plt\n",
    "import seaborn as sns\n",
    "import numpy as np\n",
    "\n",
    "sns.set()"
   ]
  },
  {
   "cell_type": "code",
   "execution_count": 95,
   "metadata": {},
   "outputs": [],
   "source": [
    "df = pd.DataFrame(index=[2,3,4,5,6,7,8,9,10,11,12], columns=['m', 'tc', 'one_by_nu', 'alpha_by_nu', 'beta_by_nu', 'gamma_by_nu'], dtype=float)\n",
    "# df.columns=['tc', 'one_by_nu', 'alpha_by_nu', 'beta_by_nu', 'gamma_by_nu', 'nu', 'alpha', 'beta', 'gamma']"
   ]
  },
  {
   "cell_type": "code",
   "execution_count": 96,
   "metadata": {},
   "outputs": [],
   "source": [
    "df.fillna(0.0, inplace=True)"
   ]
  },
  {
   "cell_type": "code",
   "execution_count": 97,
   "metadata": {},
   "outputs": [],
   "source": [
    "df.index.name=\"M\""
   ]
  },
  {
   "cell_type": "code",
   "execution_count": 98,
   "metadata": {},
   "outputs": [
    {
     "data": {
      "text/plain": [
       "0.0"
      ]
     },
     "execution_count": 98,
     "metadata": {},
     "output_type": "execute_result"
    }
   ],
   "source": [
    "name='tc'\n",
    "M=2\n",
    "df[name][M]"
   ]
  },
  {
   "cell_type": "code",
   "execution_count": 99,
   "metadata": {},
   "outputs": [],
   "source": [
    "exponents = \"BA_explosive_exponents\"\n",
    "a = pd.read_csv(exponents)\n",
    "\n",
    "# df.to_csv(filename)\n",
    "\n"
   ]
  },
  {
   "cell_type": "code",
   "execution_count": 100,
   "metadata": {},
   "outputs": [],
   "source": [
    "a.index = a['M']"
   ]
  },
  {
   "cell_type": "code",
   "execution_count": 101,
   "metadata": {},
   "outputs": [
    {
     "data": {
      "text/html": [
       "<div>\n",
       "<style scoped>\n",
       "    .dataframe tbody tr th:only-of-type {\n",
       "        vertical-align: middle;\n",
       "    }\n",
       "\n",
       "    .dataframe tbody tr th {\n",
       "        vertical-align: top;\n",
       "    }\n",
       "\n",
       "    .dataframe thead th {\n",
       "        text-align: right;\n",
       "    }\n",
       "</style>\n",
       "<table border=\"1\" class=\"dataframe\">\n",
       "  <thead>\n",
       "    <tr style=\"text-align: right;\">\n",
       "      <th></th>\n",
       "      <th>M</th>\n",
       "      <th>m</th>\n",
       "      <th>tc</th>\n",
       "      <th>one_by_nu</th>\n",
       "      <th>alpha_by_nu</th>\n",
       "      <th>beta_by_nu</th>\n",
       "      <th>gamma_by_nu</th>\n",
       "    </tr>\n",
       "    <tr>\n",
       "      <th>M</th>\n",
       "      <th></th>\n",
       "      <th></th>\n",
       "      <th></th>\n",
       "      <th></th>\n",
       "      <th></th>\n",
       "      <th></th>\n",
       "      <th></th>\n",
       "    </tr>\n",
       "  </thead>\n",
       "  <tbody>\n",
       "    <tr>\n",
       "      <td>2</td>\n",
       "      <td>2</td>\n",
       "      <td>10.0</td>\n",
       "      <td>0.727270</td>\n",
       "      <td>0.513875</td>\n",
       "      <td>0.514096</td>\n",
       "      <td>0.062249</td>\n",
       "      <td>0.468283</td>\n",
       "    </tr>\n",
       "    <tr>\n",
       "      <td>3</td>\n",
       "      <td>3</td>\n",
       "      <td>10.0</td>\n",
       "      <td>0.884769</td>\n",
       "      <td>0.514780</td>\n",
       "      <td>0.558321</td>\n",
       "      <td>0.015210</td>\n",
       "      <td>0.490704</td>\n",
       "    </tr>\n",
       "    <tr>\n",
       "      <td>4</td>\n",
       "      <td>4</td>\n",
       "      <td>10.0</td>\n",
       "      <td>0.944485</td>\n",
       "      <td>0.513591</td>\n",
       "      <td>0.570172</td>\n",
       "      <td>0.005178</td>\n",
       "      <td>0.499559</td>\n",
       "    </tr>\n",
       "    <tr>\n",
       "      <td>5</td>\n",
       "      <td>5</td>\n",
       "      <td>10.0</td>\n",
       "      <td>0.971252</td>\n",
       "      <td>0.512185</td>\n",
       "      <td>0.570930</td>\n",
       "      <td>0.002189</td>\n",
       "      <td>0.501066</td>\n",
       "    </tr>\n",
       "    <tr>\n",
       "      <td>6</td>\n",
       "      <td>6</td>\n",
       "      <td>10.0</td>\n",
       "      <td>0.984473</td>\n",
       "      <td>0.510556</td>\n",
       "      <td>0.567879</td>\n",
       "      <td>0.001097</td>\n",
       "      <td>0.501938</td>\n",
       "    </tr>\n",
       "    <tr>\n",
       "      <td>7</td>\n",
       "      <td>7</td>\n",
       "      <td>10.0</td>\n",
       "      <td>0.991434</td>\n",
       "      <td>0.518313</td>\n",
       "      <td>0.559287</td>\n",
       "      <td>0.000563</td>\n",
       "      <td>0.502215</td>\n",
       "    </tr>\n",
       "    <tr>\n",
       "      <td>8</td>\n",
       "      <td>8</td>\n",
       "      <td>10.0</td>\n",
       "      <td>0.995199</td>\n",
       "      <td>0.523395</td>\n",
       "      <td>0.540175</td>\n",
       "      <td>0.000355</td>\n",
       "      <td>0.502137</td>\n",
       "    </tr>\n",
       "    <tr>\n",
       "      <td>9</td>\n",
       "      <td>9</td>\n",
       "      <td>10.0</td>\n",
       "      <td>0.997173</td>\n",
       "      <td>0.510787</td>\n",
       "      <td>0.502010</td>\n",
       "      <td>0.000221</td>\n",
       "      <td>0.502052</td>\n",
       "    </tr>\n",
       "    <tr>\n",
       "      <td>10</td>\n",
       "      <td>10</td>\n",
       "      <td>10.0</td>\n",
       "      <td>0.998451</td>\n",
       "      <td>0.518541</td>\n",
       "      <td>0.436816</td>\n",
       "      <td>0.000151</td>\n",
       "      <td>0.502109</td>\n",
       "    </tr>\n",
       "    <tr>\n",
       "      <td>11</td>\n",
       "      <td>11</td>\n",
       "      <td>20.0</td>\n",
       "      <td>0.999413</td>\n",
       "      <td>0.000000</td>\n",
       "      <td>0.268043</td>\n",
       "      <td>0.000000</td>\n",
       "      <td>0.502202</td>\n",
       "    </tr>\n",
       "    <tr>\n",
       "      <td>12</td>\n",
       "      <td>12</td>\n",
       "      <td>20.0</td>\n",
       "      <td>0.000000</td>\n",
       "      <td>0.000000</td>\n",
       "      <td>0.000000</td>\n",
       "      <td>0.000000</td>\n",
       "      <td>0.000000</td>\n",
       "    </tr>\n",
       "  </tbody>\n",
       "</table>\n",
       "</div>"
      ],
      "text/plain": [
       "     M     m        tc  one_by_nu  alpha_by_nu  beta_by_nu  gamma_by_nu\n",
       "M                                                                      \n",
       "2    2  10.0  0.727270   0.513875     0.514096    0.062249     0.468283\n",
       "3    3  10.0  0.884769   0.514780     0.558321    0.015210     0.490704\n",
       "4    4  10.0  0.944485   0.513591     0.570172    0.005178     0.499559\n",
       "5    5  10.0  0.971252   0.512185     0.570930    0.002189     0.501066\n",
       "6    6  10.0  0.984473   0.510556     0.567879    0.001097     0.501938\n",
       "7    7  10.0  0.991434   0.518313     0.559287    0.000563     0.502215\n",
       "8    8  10.0  0.995199   0.523395     0.540175    0.000355     0.502137\n",
       "9    9  10.0  0.997173   0.510787     0.502010    0.000221     0.502052\n",
       "10  10  10.0  0.998451   0.518541     0.436816    0.000151     0.502109\n",
       "11  11  20.0  0.999413   0.000000     0.268043    0.000000     0.502202\n",
       "12  12  20.0  0.000000   0.000000     0.000000    0.000000     0.000000"
      ]
     },
     "execution_count": 101,
     "metadata": {},
     "output_type": "execute_result"
    }
   ],
   "source": [
    "a"
   ]
  },
  {
   "cell_type": "markdown",
   "metadata": {},
   "source": [
    "### $M=2$ Digonto vai\n"
   ]
  },
  {
   "cell_type": "code",
   "execution_count": 102,
   "metadata": {},
   "outputs": [],
   "source": [
    "tc=0.7 # not exactly \n",
    "nu=1.946 \n",
    "alpha=0.987 \n",
    "beta=0.090 \n",
    "gamma=0.884"
   ]
  },
  {
   "cell_type": "code",
   "execution_count": 103,
   "metadata": {},
   "outputs": [
    {
     "data": {
      "text/plain": [
       "0.5071942446043165"
      ]
     },
     "execution_count": 103,
     "metadata": {},
     "output_type": "execute_result"
    }
   ],
   "source": [
    "alpha/nu"
   ]
  },
  {
   "cell_type": "markdown",
   "metadata": {},
   "source": [
    "### $M=2$"
   ]
  },
  {
   "cell_type": "code",
   "execution_count": 104,
   "metadata": {},
   "outputs": [],
   "source": [
    "M=2\n",
    "\n",
    "df['m'][M] = 10\n",
    "df['tc'][M] = 0.72775\n",
    "\n",
    "df['tc'][M] = 0.72725 # susceptibility collapse\n",
    "df['tc'][M] = 0.72727 # specific heat collapse\n",
    "\n",
    "# find it from order parameter\n",
    "df['one_by_nu'][M] = 0.513874614594039 # Digonto vai exponent is same it seems. but recheck. \n",
    "\n",
    "# y scaling exponents are different because of single convolution. but Digonto vai did 4 times convolution\n",
    "df['gamma_by_nu'][M] = 0.4682830896280964 # better collapse than digonto vai exponent\n",
    "df['beta_by_nu'][M] = 0.06224871531346351 # better collapse in bigger range\n",
    "df['alpha_by_nu'][M] = 0.514096250213949 # "
   ]
  },
  {
   "cell_type": "markdown",
   "metadata": {},
   "source": [
    "### $M=3$"
   ]
  },
  {
   "cell_type": "code",
   "execution_count": 105,
   "metadata": {},
   "outputs": [],
   "source": [
    "M=3\n",
    "\n",
    "df['m'][M] = 10\n",
    "df['tc'][M] = 0.8848007329942904 # specific heat ** works for susceptibility too\n",
    "df['tc'][M] = 0.8847689551165168 # susceptibility\n",
    "\n",
    "\n",
    "df['one_by_nu'][M] = 0.5147796578601219 # From Order Parameter\n",
    "\n",
    "df['gamma_by_nu'][M] = 0.4907038495784963\n",
    "df['beta_by_nu'][M] = 0.015210226845351536\n",
    "df['alpha_by_nu'][M] = 0.5583214730769456"
   ]
  },
  {
   "cell_type": "markdown",
   "metadata": {},
   "source": [
    "### $M = 4$"
   ]
  },
  {
   "cell_type": "code",
   "execution_count": 106,
   "metadata": {},
   "outputs": [],
   "source": [
    "M=4\n",
    "\n",
    "df['m'][M] = 10\n",
    "df['tc'][M] = 0.944322\n",
    "df['tc'][M] = 0.944485190729756 # specific heat, straight line, depends on 1/nu\n",
    "\n",
    "df['one_by_nu'][M] = 0.5035909896264279 # From Order Parameter, depends on tc\n",
    "df['one_by_nu'][M] = 0.5185909896264279 # better collapse for specific heat\n",
    "df['one_by_nu'][M] = 0.5135909896264279 # better collapse for susceptibility\n",
    "\n",
    "df['beta_by_nu'][M]=0.0051780431466236345\n",
    "df['alpha_by_nu'][M] = 0.5701717542856257\n",
    "df['gamma_by_nu'][M]=0.49955852538122003"
   ]
  },
  {
   "cell_type": "markdown",
   "metadata": {},
   "source": [
    "### $M=5$"
   ]
  },
  {
   "cell_type": "code",
   "execution_count": 107,
   "metadata": {},
   "outputs": [],
   "source": [
    "M=5\n",
    "\n",
    "df['m'][M] = 10\n",
    "df['tc'][M] = 0.971117\n",
    "df['tc'][M] = 0.9712994685782114 # specific heat, straight line, depends on 1/nu\n",
    "df['tc'][M] = 0.9712524230802962 # susceptibility, straight line, depends on 1/nu\n",
    "\n",
    "\n",
    "df['one_by_nu'][M] = 0.5121847779791164 # From Order Parameter, depends on tc\n",
    "# df['one_by_nu'][M] = 0# better collapse for specific heat\n",
    "# df['one_by_nu'][M] = 0 # better collapse for susceptibility\n",
    "\n",
    "df['beta_by_nu'][M]=0.002189338554926864\n",
    "df['alpha_by_nu'][M] = 0.5709302763399081\n",
    "df['gamma_by_nu'][M]=0.5010657177122594"
   ]
  },
  {
   "cell_type": "markdown",
   "metadata": {},
   "source": [
    "### $M=6$"
   ]
  },
  {
   "cell_type": "code",
   "execution_count": 108,
   "metadata": {},
   "outputs": [],
   "source": [
    "M=6\n",
    "\n",
    "df['m'][M] = 10\n",
    "df['tc'][M] = 0.9845545066738824 # specific heat, straight line, depends on 1/nu\n",
    "df['tc'][M] = 0.9844725244423395 # susceptibility, straight line, depends on 1/nu\n",
    "\n",
    "\n",
    "\n",
    "df['one_by_nu'][M] = 0.5037072777685714 # From Order Parameter, depends on tc\n",
    "df['one_by_nu'][M] = 0.5105556312194173 # From susceptibility tc Parameter, depends on tc\n",
    "\n",
    "df['beta_by_nu'][M]= 0.0010973409840844652\n",
    "df['alpha_by_nu'][M] = 0.567879155936502\n",
    "df['gamma_by_nu'][M]= 0.5019377234808523"
   ]
  },
  {
   "cell_type": "markdown",
   "metadata": {},
   "source": [
    "### $M=7$"
   ]
  },
  {
   "cell_type": "code",
   "execution_count": 109,
   "metadata": {},
   "outputs": [],
   "source": [
    "M=7\n",
    "\n",
    "df['m'][M] = 10\n",
    "df['tc'][M] = 0.9914981154465992 # specific heat, straight line, depends on 1/nu\n",
    "df['tc'][M] = 0.991369804576241 # susceptibility, straight line, depends on 1/nu\n",
    "df['tc'][M] = 0.9914339600114201 # in the middle\n",
    "\n",
    "\n",
    "df['one_by_nu'][M] = 0.5094789034354745 # From Order Parameter, at x = 0.05, depends on tc\n",
    "df['one_by_nu'][M] = 0.51831264512347 # From Order Parameter, at x = 0.95, depends on tc\n",
    "# df['one_by_nu'][M] = 0. # From susceptibility tc Parameter, depends on tc\n",
    "\n",
    "df['beta_by_nu'][M]= 0.000563332711546766\n",
    "df['alpha_by_nu'][M] = 0.5592868253232689\n",
    "df['gamma_by_nu'][M]= 0.5022154798569013"
   ]
  },
  {
   "cell_type": "markdown",
   "metadata": {},
   "source": [
    "### $M=8$"
   ]
  },
  {
   "cell_type": "code",
   "execution_count": 110,
   "metadata": {},
   "outputs": [],
   "source": [
    "M=8\n",
    "\n",
    "df['m'][M] = 10\n",
    "df['tc'][M] = 0.9952722435116937 # specific heat, straight line, depends on 1/nu\n",
    "df['tc'][M] = 0.9951049405863498 # susceptibility, straight line, depends on 1/nu\n",
    "df['tc'][M] = 0.9951985920490225 # in the middle\n",
    "\n",
    "\n",
    "df['one_by_nu'][M] = 0. # From Order Parameter, at x = 0.05, depends on tc\n",
    "df['one_by_nu'][M] = 0.5233953305075367 # From Order Parameter, at x = 0.98, depends on tc\n",
    "# df['one_by_nu'][M] = 0. # From susceptibility tc Parameter, depends on tc\n",
    "\n",
    "df['beta_by_nu'][M]= 0.0003549819952896787 # at x=3\n",
    "df['alpha_by_nu'][M] = 0.5401749720626219\n",
    "df['gamma_by_nu'][M]= 0.5021366646706512"
   ]
  },
  {
   "cell_type": "markdown",
   "metadata": {},
   "source": [
    "### $M=9$"
   ]
  },
  {
   "cell_type": "code",
   "execution_count": 111,
   "metadata": {},
   "outputs": [],
   "source": [
    "M=9\n",
    "\n",
    "df['m'][M] = 10\n",
    "df['tc'][M] = 0.9974341991107397 # specific heat, straight line, depends on 1/nu\n",
    "df['tc'][M] = 0.997183232056865 # susceptibility, straight line, depends on 1/nu\n",
    "df['tc'][M] = 0.997283232056865 # in the middle. collapses both partially\n",
    "df['tc'][M] = 0.997173232056865 # order parameter collapse\n",
    "\n",
    "df['one_by_nu'][M] = 0.5107873978212114 # From Order Parameter, at x = 0.02, depends on tc\n",
    "# df['one_by_nu'][M] = 0. # From Order Parameter, at x = 0.98, depends on tc\n",
    "# df['one_by_nu'][M] = 0. # From susceptibility tc Parameter, depends on tc\n",
    "\n",
    "# with beta/nu=0 std deviation is at x=2.4 is std=1.4 * 10^{-4}\n",
    "# with non zerorbeta/nu std deviation is at x=2.4 is std=5 * 10^{-6}\n",
    "df['beta_by_nu'][M]= 0.0003711713635611334 # at line x=2.4\n",
    "df['alpha_by_nu'][M] = 0.5020103214429655\n",
    "df['gamma_by_nu'][M]= 0.5020521616446415\n",
    "\n",
    "df['beta_by_nu'][M]= 0.0002211713635611334 # only for graph fitting purposes"
   ]
  },
  {
   "cell_type": "markdown",
   "metadata": {},
   "source": [
    "### $M=10$"
   ]
  },
  {
   "cell_type": "code",
   "execution_count": 112,
   "metadata": {},
   "outputs": [],
   "source": [
    "M=10\n",
    "\n",
    "df['m'][M] = 10\n",
    "df['tc'][M] = 0.9986511635765238 # specific heat, straight line, depends on 1/nu\n",
    "df['tc'][M] = 0.9983580894495375 # susceptibility, straight line, depends on 1/nu. gives same 1/nu\n",
    "df['tc'][M] = 0.9984511635765238 # in the middle. collapses both partially\n",
    "# df['tc'][M] = 0.9983511635765236 # for order parameter collapse\n",
    "\n",
    "df['one_by_nu'][M] = 0.5185414637112808 # From Order Parameter, at x = 0.02, depends on tc\n",
    "# df['one_by_nu'][M] = 0. # From Order Parameter, at x = 0.98, depends on tc\n",
    "# df['one_by_nu'][M] = 0. # From susceptibility tc Parameter, depends on tc\n",
    "\n",
    "\n",
    "df['beta_by_nu'][M]=0.0002118636095983873  # measured at x=3\n",
    "# can be considered zero since zero gives std deviation of 10^-5 and 0.0001 gives 10^-6\n",
    "# meaning with a non zero exponent we do not get any better collapse than a zero exponent.\n",
    "\n",
    "# df['beta_by_nu'][M]= 0. \n",
    "df['alpha_by_nu'][M] = 0.4368156449584002\n",
    "df['gamma_by_nu'][M]= 0.5021094257058025\n",
    "\n",
    "\n",
    "df['beta_by_nu'][M]= 0.0001511713635611334 # only for graph fitting purposes"
   ]
  },
  {
   "cell_type": "markdown",
   "metadata": {},
   "source": [
    "### $M=11$"
   ]
  },
  {
   "cell_type": "code",
   "execution_count": 129,
   "metadata": {},
   "outputs": [],
   "source": [
    "M=11\n",
    "\n",
    "df['m'][M] = 20\n",
    "\n",
    "df['tc'][M] = 0. # specific heat, straight line, depends on 1/nu\n",
    "df['tc'][M] = 0. # susceptibility, straight line, depends on 1/nu. gives same 1/nu\n",
    "# df['tc'][M] = 0. # in the middle. collapses both partially\n",
    "# df['tc'][M] = 0. # for order parameter collapse\n",
    "\n",
    "df['one_by_nu'][M] = 0. # From Order Parameter, at x = 0.02, depends on tc\n",
    "# df['one_by_nu'][M] = 0. # From Order Parameter, at x = 0.98, depends on tc\n",
    "# df['one_by_nu'][M] = 0. # From susceptibility tc Parameter, depends on tc\n",
    "\n",
    "\n",
    "df['beta_by_nu'][M]=0.  # measured at x=3\n",
    "# can be considered zero since zero gives std deviation of 10^-5 and 0.0001 gives 10^-6\n",
    "# meaning with a non zero exponent we do not get any better collapse than a zero exponent.\n",
    "\n",
    "# df['beta_by_nu'][M]= 0. \n",
    "df['alpha_by_nu'][M] = 0.\n",
    "df['gamma_by_nu'][M]= 0.\n",
    "\n",
    "\n",
    "df['beta_by_nu'][M]= 0. # only for graph fitting purposes"
   ]
  },
  {
   "cell_type": "markdown",
   "metadata": {},
   "source": [
    "### $M=12$"
   ]
  },
  {
   "cell_type": "code",
   "execution_count": 114,
   "metadata": {},
   "outputs": [],
   "source": [
    "M=12\n",
    "\n",
    "df['m'][M] = 20\n",
    "\n",
    "df['tc'][M] = 0.9996316882753018 # specific heat, straight line, depends on 1/nu\n",
    "df['tc'][M] = 0.999413290734154 # susceptibility, straight line, depends on 1/nu. gives same 1/nu\n",
    "# df['tc'][M] = 0. # in the middle. collapses both partially\n",
    "# df['tc'][M] = 0. # for order parameter collapse\n",
    "\n",
    "df['one_by_nu'][M] = 0.5184326267429805 # From Order Parameter, at x = 0.005, depends on tc\n",
    "# df['one_by_nu'][M] = 0. # From Order Parameter, at x = 0.98, depends on tc\n",
    "# df['one_by_nu'][M] = 0. # From susceptibility tc Parameter, depends on tc\n",
    "\n",
    "\n",
    "df['beta_by_nu'][M]=0.0001463822444025506  # measured at x=3\n",
    "# can be considered zero since zero gives std deviation of 10^-5 and 0.0001 gives 10^-6\n",
    "# meaning with a non zero exponent we do not get any better collapse than a zero exponent.\n",
    "\n",
    "# df['beta_by_nu'][M]= 0. \n",
    "df['alpha_by_nu'][M] = 0.26804316192742955\n",
    "df['gamma_by_nu'][M]= 0.5022015571629053\n",
    "\n",
    "\n",
    "# df['beta_by_nu'][M]= 0. # only for graph fitting purposes"
   ]
  },
  {
   "cell_type": "code",
   "execution_count": null,
   "metadata": {},
   "outputs": [],
   "source": []
  },
  {
   "cell_type": "code",
   "execution_count": 115,
   "metadata": {},
   "outputs": [
    {
     "data": {
      "text/plain": [
       "0.9951885920490218"
      ]
     },
     "execution_count": 115,
     "metadata": {},
     "output_type": "execute_result"
    }
   ],
   "source": [
    "(0.9951049405863498 + 0.9952722435116937) / 2"
   ]
  },
  {
   "cell_type": "code",
   "execution_count": 116,
   "metadata": {},
   "outputs": [
    {
     "data": {
      "text/html": [
       "<div>\n",
       "<style scoped>\n",
       "    .dataframe tbody tr th:only-of-type {\n",
       "        vertical-align: middle;\n",
       "    }\n",
       "\n",
       "    .dataframe tbody tr th {\n",
       "        vertical-align: top;\n",
       "    }\n",
       "\n",
       "    .dataframe thead th {\n",
       "        text-align: right;\n",
       "    }\n",
       "</style>\n",
       "<table border=\"1\" class=\"dataframe\">\n",
       "  <thead>\n",
       "    <tr style=\"text-align: right;\">\n",
       "      <th></th>\n",
       "      <th>m</th>\n",
       "      <th>tc</th>\n",
       "      <th>one_by_nu</th>\n",
       "      <th>alpha_by_nu</th>\n",
       "      <th>beta_by_nu</th>\n",
       "      <th>gamma_by_nu</th>\n",
       "    </tr>\n",
       "    <tr>\n",
       "      <th>M</th>\n",
       "      <th></th>\n",
       "      <th></th>\n",
       "      <th></th>\n",
       "      <th></th>\n",
       "      <th></th>\n",
       "      <th></th>\n",
       "    </tr>\n",
       "  </thead>\n",
       "  <tbody>\n",
       "    <tr>\n",
       "      <td>2</td>\n",
       "      <td>10.0</td>\n",
       "      <td>0.727270</td>\n",
       "      <td>0.513875</td>\n",
       "      <td>0.514096</td>\n",
       "      <td>0.062249</td>\n",
       "      <td>0.468283</td>\n",
       "    </tr>\n",
       "    <tr>\n",
       "      <td>3</td>\n",
       "      <td>10.0</td>\n",
       "      <td>0.884769</td>\n",
       "      <td>0.514780</td>\n",
       "      <td>0.558321</td>\n",
       "      <td>0.015210</td>\n",
       "      <td>0.490704</td>\n",
       "    </tr>\n",
       "    <tr>\n",
       "      <td>4</td>\n",
       "      <td>10.0</td>\n",
       "      <td>0.944485</td>\n",
       "      <td>0.513591</td>\n",
       "      <td>0.570172</td>\n",
       "      <td>0.005178</td>\n",
       "      <td>0.499559</td>\n",
       "    </tr>\n",
       "    <tr>\n",
       "      <td>5</td>\n",
       "      <td>10.0</td>\n",
       "      <td>0.971252</td>\n",
       "      <td>0.512185</td>\n",
       "      <td>0.570930</td>\n",
       "      <td>0.002189</td>\n",
       "      <td>0.501066</td>\n",
       "    </tr>\n",
       "    <tr>\n",
       "      <td>6</td>\n",
       "      <td>10.0</td>\n",
       "      <td>0.984473</td>\n",
       "      <td>0.510556</td>\n",
       "      <td>0.567879</td>\n",
       "      <td>0.001097</td>\n",
       "      <td>0.501938</td>\n",
       "    </tr>\n",
       "    <tr>\n",
       "      <td>7</td>\n",
       "      <td>10.0</td>\n",
       "      <td>0.991434</td>\n",
       "      <td>0.518313</td>\n",
       "      <td>0.559287</td>\n",
       "      <td>0.000563</td>\n",
       "      <td>0.502215</td>\n",
       "    </tr>\n",
       "    <tr>\n",
       "      <td>8</td>\n",
       "      <td>10.0</td>\n",
       "      <td>0.995199</td>\n",
       "      <td>0.523395</td>\n",
       "      <td>0.540175</td>\n",
       "      <td>0.000355</td>\n",
       "      <td>0.502137</td>\n",
       "    </tr>\n",
       "    <tr>\n",
       "      <td>9</td>\n",
       "      <td>10.0</td>\n",
       "      <td>0.997173</td>\n",
       "      <td>0.510787</td>\n",
       "      <td>0.502010</td>\n",
       "      <td>0.000221</td>\n",
       "      <td>0.502052</td>\n",
       "    </tr>\n",
       "    <tr>\n",
       "      <td>10</td>\n",
       "      <td>10.0</td>\n",
       "      <td>0.998451</td>\n",
       "      <td>0.518541</td>\n",
       "      <td>0.436816</td>\n",
       "      <td>0.000151</td>\n",
       "      <td>0.502109</td>\n",
       "    </tr>\n",
       "    <tr>\n",
       "      <td>11</td>\n",
       "      <td>20.0</td>\n",
       "      <td>0.999413</td>\n",
       "      <td>0.000000</td>\n",
       "      <td>0.268043</td>\n",
       "      <td>0.000000</td>\n",
       "      <td>0.502202</td>\n",
       "    </tr>\n",
       "    <tr>\n",
       "      <td>12</td>\n",
       "      <td>20.0</td>\n",
       "      <td>0.999413</td>\n",
       "      <td>0.518433</td>\n",
       "      <td>0.268043</td>\n",
       "      <td>0.000146</td>\n",
       "      <td>0.502202</td>\n",
       "    </tr>\n",
       "  </tbody>\n",
       "</table>\n",
       "</div>"
      ],
      "text/plain": [
       "       m        tc  one_by_nu  alpha_by_nu  beta_by_nu  gamma_by_nu\n",
       "M                                                                  \n",
       "2   10.0  0.727270   0.513875     0.514096    0.062249     0.468283\n",
       "3   10.0  0.884769   0.514780     0.558321    0.015210     0.490704\n",
       "4   10.0  0.944485   0.513591     0.570172    0.005178     0.499559\n",
       "5   10.0  0.971252   0.512185     0.570930    0.002189     0.501066\n",
       "6   10.0  0.984473   0.510556     0.567879    0.001097     0.501938\n",
       "7   10.0  0.991434   0.518313     0.559287    0.000563     0.502215\n",
       "8   10.0  0.995199   0.523395     0.540175    0.000355     0.502137\n",
       "9   10.0  0.997173   0.510787     0.502010    0.000221     0.502052\n",
       "10  10.0  0.998451   0.518541     0.436816    0.000151     0.502109\n",
       "11  20.0  0.999413   0.000000     0.268043    0.000000     0.502202\n",
       "12  20.0  0.999413   0.518433     0.268043    0.000146     0.502202"
      ]
     },
     "execution_count": 116,
     "metadata": {},
     "output_type": "execute_result"
    }
   ],
   "source": [
    "df"
   ]
  },
  {
   "cell_type": "code",
   "execution_count": 117,
   "metadata": {},
   "outputs": [],
   "source": [
    "df.to_csv(exponents)"
   ]
  },
  {
   "cell_type": "code",
   "execution_count": 118,
   "metadata": {},
   "outputs": [],
   "source": [
    "def plot_exponent(df, key):\n",
    "    ex=df[key]\n",
    "    M=list(df.index)\n",
    "    plt.plot(M, ex, 'o', label='original')\n",
    "    ex, a = 3.65, 0.8\n",
    "    y = a*np.array(M)**(-ex)\n",
    "    plt.plot(M, y, label='fitted')\n",
    "    \n",
    "    plt.legend()"
   ]
  },
  {
   "cell_type": "code",
   "execution_count": 119,
   "metadata": {},
   "outputs": [
    {
     "data": {
      "image/png": "[encoded data removed]",
      "text/plain": [
       "<Figure size 432x288 with 1 Axes>"
      ]
     },
     "metadata": {},
     "output_type": "display_data"
    }
   ],
   "source": [
    "plot_exponent(df, 'beta_by_nu')"
   ]
  },
  {
   "cell_type": "code",
   "execution_count": 120,
   "metadata": {},
   "outputs": [],
   "source": [
    "import scipy.stats as stat"
   ]
  },
  {
   "cell_type": "code",
   "execution_count": 121,
   "metadata": {},
   "outputs": [],
   "source": [
    "def plot_exponent_log(df, key):\n",
    "    ex=df[key]\n",
    "    M=list(df.index)\n",
    "    plt.plot(np.log(M), np.log(ex), 'o')\n",
    "    regress = stat.linregress(np.log(M), np.log(ex))\n",
    "    M = np.linspace(2, 15, 14)\n",
    "    y = regress[0]*np.log(M) + regress[1]\n",
    "    plt.plot(np.log(M), y)\n",
    "    print(regress)"
   ]
  },
  {
   "cell_type": "code",
   "execution_count": 122,
   "metadata": {},
   "outputs": [
    {
     "name": "stdout",
     "output_type": "stream",
     "text": [
      "LinregressResult(slope=nan, intercept=nan, rvalue=nan, pvalue=nan, stderr=nan)\n"
     ]
    },
    {
     "data": {
      "image/png": "[encoded data removed]",
      "text/plain": [
       "<Figure size 432x288 with 1 Axes>"
      ]
     },
     "metadata": {},
     "output_type": "display_data"
    }
   ],
   "source": [
    "plot_exponent_log(df, 'beta_by_nu')"
   ]
  },
  {
   "cell_type": "code",
   "execution_count": 123,
   "metadata": {},
   "outputs": [],
   "source": [
    "def plot_exponent_semi_log(df, key):\n",
    "    ex=df[key]\n",
    "    M=list(df.index)\n",
    "    plt.plot(M, np.log(ex), 'o')\n",
    "    regress = stat.linregress(M, np.log(ex))\n",
    "    M = np.linspace(2, 15, 14)\n",
    "    y = regress[0]*M + regress[1]\n",
    "    plt.plot(M, y)\n",
    "    print(regress)"
   ]
  },
  {
   "cell_type": "code",
   "execution_count": 124,
   "metadata": {},
   "outputs": [
    {
     "name": "stdout",
     "output_type": "stream",
     "text": [
      "LinregressResult(slope=nan, intercept=nan, rvalue=nan, pvalue=nan, stderr=nan)\n"
     ]
    },
    {
     "data": {
      "image/png": "[encoded data removed]",
      "text/plain": [
       "<Figure size 432x288 with 1 Axes>"
      ]
     },
     "metadata": {},
     "output_type": "display_data"
    }
   ],
   "source": [
    "plot_exponent_semi_log(df, 'beta_by_nu')"
   ]
  },
  {
   "cell_type": "code",
   "execution_count": 125,
   "metadata": {},
   "outputs": [
    {
     "data": {
      "text/plain": [
       "-3.798068646300644"
      ]
     },
     "execution_count": 125,
     "metadata": {},
     "output_type": "execute_result"
    }
   ],
   "source": [
    "-3.798068646300644"
   ]
  },
  {
   "cell_type": "code",
   "execution_count": 126,
   "metadata": {},
   "outputs": [],
   "source": [
    "def get_beta_by_nu(M):\n",
    "    a, ex = 0.8, 3.7\n",
    "    a, ex = 0.32, 3.6\n",
    "    a, ex = 0.92, 3.78\n",
    "    return a*M**(-ex)"
   ]
  },
  {
   "cell_type": "code",
   "execution_count": 127,
   "metadata": {},
   "outputs": [
    {
     "data": {
      "text/plain": [
       "1.1114615511846106e-05"
      ]
     },
     "execution_count": 127,
     "metadata": {},
     "output_type": "execute_result"
    }
   ],
   "source": [
    "get_beta_by_nu(20)"
   ]
  },
  {
   "cell_type": "markdown",
   "metadata": {},
   "source": [
    "# Comments"
   ]
  },
  {
   "cell_type": "markdown",
   "metadata": {},
   "source": [
    "1. exponent $\\beta/\\nu$ seems to follow a power law with $M$ with exponent -3.798\n",
    "\n",
    "\n",
    "2. for M=10, $\\beta/\\nu$ can be considered zero since zero gives std deviation of $10^{-5}$ and $0.0002$ gives $10^{-5}$\n",
    " meaning with a non zero exponent we do not get any better collapse than a zero exponent. measured by line x=3. Moreover for larger $M$ measuring $\\beta/\\nu$ is very hard and it fluctuates more. \n",
    " \n",
    " \n",
    "3. for $M=10$, slope from the log-log graph while finding $\\beta/\\nu$ should be negative since $P \\sim N^{-\\beta/\\nu} \\phi((t-t_c)N^{1/\\nu}$. But if we draw a vertical line closer to $t_c$ (closer than $x=2.2$ from the graph $P$ vs $(t-t_c)N^{1/\\nu}$) we get positive solpe which indicates that the transition is not trivial or second order. And if the line is further then that we get negative solpe which is of order $10^{-5}$ for line $x=2.6$ and $10^{-4}$ for $x=3.0$.\n",
    "This behaviour is not observed for $M=12$\n",
    "\n",
    "\n",
    "4. If $\\beta/\\nu=0.001$ then it is not visually detectable if the collapse is perfect or not. This was measured for $M=10$\n",
    "\n",
    "\n",
    "5. From $M=10$ specific heat have very unusual shape. Two peak, first one at $t_c$ and second one is inverted after $t_c$\n",
    "\n",
    "\n",
    "6. **Bump in specific heat** for larger $M$ value. It is due to the sequence of operation performed. If we take entropy data and perform convolution then take derivative to find specific heat we get a little bump (downward) after $t_c$ for larger $M$ say $M=10$. But if we calculate specific heat first from original entropy and then perform convolution this problem resolves. Note that this two order of operation changes $t_c$ a little which can be the reason that the specific heat does not collapse for the $t_c$ that collapses susceptibility. Also note that the peak is different for two order of operation which means that exponent $\\alpha$ will be different."
   ]
  },
  {
   "cell_type": "code",
   "execution_count": 128,
   "metadata": {},
   "outputs": [
    {
     "data": {
      "text/plain": [
       "0.9275707239549444"
      ]
     },
     "execution_count": 128,
     "metadata": {},
     "output_type": "execute_result"
    }
   ],
   "source": [
    "np.exp(-0.07518623516507361)"
   ]
  },
  {
   "cell_type": "code",
   "execution_count": null,
   "metadata": {},
   "outputs": [],
   "source": []
  }
 ],
 "metadata": {
  "kernelspec": {
   "display_name": "Python 3",
   "language": "python",
   "name": "python3"
  },
  "language_info": {
   "codemirror_mode": {
    "name": "ipython",
    "version": 3
   },
   "file_extension": ".py",
   "mimetype": "text/x-python",
   "name": "python",
   "nbconvert_exporter": "python",
   "pygments_lexer": "ipython3",
   "version": "3.6.8"
  }
 },
 "nbformat": 4,
 "nbformat_minor": 2
}
