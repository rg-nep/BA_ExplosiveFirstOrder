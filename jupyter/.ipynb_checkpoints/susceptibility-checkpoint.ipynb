{
 "cells": [
  {
   "cell_type": "markdown",
   "metadata": {},
   "source": [
    "# Susceptibility"
   ]
  },
  {
   "cell_type": "code",
   "execution_count": 1,
   "metadata": {},
   "outputs": [],
   "source": [
    "import numpy as np\n",
    "import seaborn as sns\n",
    "import matplotlib.pyplot as plt\n",
    "import os\n",
    "import json\n",
    "import glob\n",
    "import scipy.stats as stats\n",
    "import pandas as pd"
   ]
  },
  {
   "cell_type": "code",
   "execution_count": 2,
   "metadata": {},
   "outputs": [],
   "source": [
    "sns.set()"
   ]
  },
  {
   "cell_type": "code",
   "execution_count": 3,
   "metadata": {},
   "outputs": [],
   "source": [
    "data_root = '../data/entropy-order-convolved/'\n",
    "fig_root=\"../figures/\"\n",
    "# os.listdir(data_root)"
   ]
  },
  {
   "cell_type": "code",
   "execution_count": 42,
   "metadata": {},
   "outputs": [],
   "source": [
    "M=12\n",
    "m=20\n",
    "\n",
    "classname=\"BA_NetworkPercolationExplosive_v7\"\n",
    "signature=\"{0}_N_*_m_{1}_M_{2}_entropy-order_*fast.txt\".format(classname,m, M)"
   ]
  },
  {
   "cell_type": "code",
   "execution_count": 43,
   "metadata": {},
   "outputs": [
    {
     "name": "stdout",
     "output_type": "stream",
     "text": [
      "BA_NetworkPercolationExplosive_v7_N_*_m_20_M_12_entropy-order_*fast.txt\n"
     ]
    }
   ],
   "source": [
    "print(signature)\n",
    "files=glob.glob(data_root + signature)"
   ]
  },
  {
   "cell_type": "code",
   "execution_count": null,
   "metadata": {},
   "outputs": [],
   "source": []
  },
  {
   "cell_type": "code",
   "execution_count": 44,
   "metadata": {},
   "outputs": [
    {
     "data": {
      "text/plain": [
       "['../data/entropy-order-convolved/BA_NetworkPercolationExplosive_v7_N_1200000_m_20_M_12_entropy-order_2019_avg.txt_convoluted_1times_fast.txt',\n",
       " '../data/entropy-order-convolved/BA_NetworkPercolationExplosive_v7_N_600000_m_20_M_12_entropy-order_2019_avg.txt_convoluted_1times_fast.txt',\n",
       " '../data/entropy-order-convolved/BA_NetworkPercolationExplosive_v7_N_1000000_m_20_M_12_entropy-order_2019_avg.txt_convoluted_1times_fast.txt',\n",
       " '../data/entropy-order-convolved/BA_NetworkPercolationExplosive_v7_N_400000_m_20_M_12_entropy-order_2019_avg.txt_convoluted_1times_fast.txt',\n",
       " '../data/entropy-order-convolved/BA_NetworkPercolationExplosive_v7_N_800000_m_20_M_12_entropy-order_2019_avg.txt_convoluted_1times_fast.txt']"
      ]
     },
     "execution_count": 44,
     "metadata": {},
     "output_type": "execute_result"
    }
   ],
   "source": [
    "files"
   ]
  },
  {
   "cell_type": "code",
   "execution_count": 45,
   "metadata": {},
   "outputs": [],
   "source": [
    "def load_exponents_from_file():\n",
    "    filename = \"BA_explosive_exponents\"\n",
    "    df = pd.read_csv(filename)\n",
    "    df.index = df['M']\n",
    "\n",
    "    tc = df['tc'][M]\n",
    "    one_by_nu = df['one_by_nu'][M]\n",
    "    beta_by_nu = df['beta_by_nu'][M]\n",
    "    gamma_by_nu = df['gamma_by_nu'][M]\n",
    "    alpha_by_nu = df['alpha_by_nu'][M]\n",
    "    print(M)\n",
    "    print(tc)\n",
    "    print(one_by_nu)\n",
    "    print(alpha_by_nu)\n",
    "    print(beta_by_nu)\n",
    "    print(gamma_by_nu)\n",
    "    # print(df)\n",
    "    return tc, one_by_nu, alpha_by_nu, beta_by_nu, gamma_by_nu"
   ]
  },
  {
   "cell_type": "markdown",
   "metadata": {},
   "source": [
    "### checking ensemble size"
   ]
  },
  {
   "cell_type": "code",
   "execution_count": 46,
   "metadata": {},
   "outputs": [
    {
     "name": "stdout",
     "output_type": "stream",
     "text": [
      "Ensemble sizes\n",
      "N= 1200000   En= 15000\n",
      "N= 600000   En= 15000\n",
      "N= 1000000   En= 15000\n",
      "N= 400000   En= 15000\n",
      "N= 800000   En= 15000\n"
     ]
    }
   ],
   "source": [
    "print(\"Ensemble sizes\")\n",
    "for file in files:\n",
    "    with open(file) as f:\n",
    "        line=f.readline()\n",
    "        head=json.loads(line[1:])\n",
    "        print(\"N=\", head['N'], \"  En=\", head['En'])"
   ]
  },
  {
   "cell_type": "code",
   "execution_count": 47,
   "metadata": {},
   "outputs": [],
   "source": [
    "def find_specific_heat(t, H, N):\n",
    "#     C = -t[1:]*np.diff(H)/np.diff(t)  # noisy data\n",
    "    C = -t[1:]*np.diff(H)*N\n",
    "#     print(1/np.diff(t)[0])\n",
    "#     print(N)\n",
    "    return C\n",
    "\n",
    "def find_susceptibility(t, P, N):\n",
    "    sus=np.diff(P)*N\n",
    "    return sus"
   ]
  },
  {
   "cell_type": "code",
   "execution_count": 48,
   "metadata": {},
   "outputs": [],
   "source": [
    "tc=0.72775"
   ]
  },
  {
   "cell_type": "code",
   "execution_count": 50,
   "metadata": {},
   "outputs": [],
   "source": [
    "min_limit=0.98\n",
    "max_limit=1.1"
   ]
  },
  {
   "cell_type": "code",
   "execution_count": null,
   "metadata": {},
   "outputs": [],
   "source": [
    "data=dict()\n",
    "for file in files:\n",
    "    with open(file) as f:\n",
    "        line=f.readline()\n",
    "        head=json.loads(line[1:])\n",
    "        N=int(head['N'])\n",
    "        M=int(head['M'])\n",
    "        m=int(head['m'])\n",
    "    X = np.loadtxt(file)\n",
    "    t=X[:,0]\n",
    "    index=(t > min_limit) & (t < max_limit)\n",
    "    data[N] = X[index]\n",
    "    "
   ]
  },
  {
   "cell_type": "code",
   "execution_count": null,
   "metadata": {},
   "outputs": [],
   "source": [
    "for N in data.keys():\n",
    "    print(data[N].shape)\n",
    "    t, H, P = data[N].T\n",
    "    X = find_susceptibility(t, P, N)\n",
    "    plt.plot(t[1:], X, label='N={}k'.format(N//1000))\n",
    "    pass\n",
    "plt.legend()\n",
    "# plt.xlim([0.723, 0.735])\n",
    "filename=fig_root + classname + \"susceptibility_m{}_M{}\".format(m, M)\n",
    "plt.savefig(filename)"
   ]
  },
  {
   "cell_type": "code",
   "execution_count": null,
   "metadata": {},
   "outputs": [],
   "source": [
    "critical = []\n",
    "for N in data.keys():\n",
    "    print(data[N].shape)\n",
    "    t, H, P = data[N].T\n",
    "    X = find_susceptibility(t, P, N)\n",
    "    i = np.argmax(X)\n",
    "    critical.append([N, t[i], X[i]])\n",
    "    plt.plot(t[1:], X, label='N={}k'.format(N//1000))\n",
    "    plt.plot(t[i], X[i], 'o')\n",
    "    pass\n",
    "plt.legend()\n",
    "# plt.xlim([0.723, 0.735])"
   ]
  },
  {
   "cell_type": "code",
   "execution_count": null,
   "metadata": {},
   "outputs": [],
   "source": [
    "def find_exponent(X):\n",
    "    X=np.array(X)\n",
    "    print(X.shape)\n",
    "    plt.plot(np.log(X[:,0]), np.log(X[:,2]), 'o')\n",
    "    regress = stats.linregress(np.log(X[:,0]), np.log(X[:,2]))\n",
    "    print(regress)\n",
    "    y = regress[0] * np.log(X[:,0]) + regress[1]\n",
    "    plt.plot(np.log(X[:,0]), y)"
   ]
  },
  {
   "cell_type": "code",
   "execution_count": null,
   "metadata": {},
   "outputs": [],
   "source": [
    "find_exponent(critical)"
   ]
  },
  {
   "cell_type": "markdown",
   "metadata": {},
   "source": [
    "\n",
    "### It is evident that increasing system size gets you closer to the critical point\n",
    "\n",
    "It flows the relation\n",
    "\n",
    "$(t(N)-t_c(\\infty)) N ^{1/\\nu} = const $\n",
    "\n",
    "$(t(N)-t_c) \\sim N ^{-1/\\nu}$\n",
    "\n",
    "$(t(N)-t_c(\\infty)) \\sim N^{-1/\\nu}$\n",
    "\n",
    "In the limit $N\\rightarrow \\infty$, $t(N) = t_c(\\infty)$\n",
    "\n",
    "If $1/\\nu$ is known then finding $t_c$ is very easy."
   ]
  },
  {
   "cell_type": "code",
   "execution_count": 17,
   "metadata": {},
   "outputs": [],
   "source": [
    "def find_tc(X, one_by_nu):\n",
    "    fig, axs = plt.subplots(1, 2, figsize=(12, 4))\n",
    "    X=np.array(X)\n",
    "    \n",
    "    axs[0].plot(X[:,0], X[:,1], 'o')\n",
    "    x = X[:,0]**(-one_by_nu)\n",
    "    y = X[:,1]\n",
    "    print(X.shape)\n",
    "    axs[1].plot(x, y, 'o')\n",
    "    regress = stats.linregress(x, y)\n",
    "    print(regress)\n",
    "    y = regress[0] * x + regress[1]\n",
    "    axs[1].plot(x, y)"
   ]
  },
  {
   "cell_type": "code",
   "execution_count": 18,
   "metadata": {},
   "outputs": [
    {
     "name": "stdout",
     "output_type": "stream",
     "text": [
      "(5, 3)\n",
      "LinregressResult(slope=0.01386548715144398, intercept=0.9983580894495375, rvalue=0.9751024988377358, pvalue=0.004698280041460237, stderr=0.001820526210208137)\n"
     ]
    },
    {
     "data": {
      "image/png": "[encoded data removed]",
      "text/plain": [
       "<Figure size 864x288 with 2 Axes>"
      ]
     },
     "metadata": {},
     "output_type": "display_data"
    }
   ],
   "source": [
    "# one_by_nu = 0.5037072777685714\n",
    "# one_by_nu = 0.5094726041604809\n",
    "one_by_nu = 0.51\n",
    "find_tc(critical, one_by_nu)"
   ]
  },
  {
   "cell_type": "markdown",
   "metadata": {},
   "source": [
    "#### Data Collapse\n",
    "\n",
    "Read exponents from a file \n",
    "so that I don't have to type it every time"
   ]
  },
  {
   "cell_type": "code",
   "execution_count": 21,
   "metadata": {},
   "outputs": [
    {
     "name": "stdout",
     "output_type": "stream",
     "text": [
      "10\n",
      "0.9984511635765236\n",
      "0.5185414637112808\n",
      "0.5021094257058025\n"
     ]
    }
   ],
   "source": [
    "tc, one_by_nu, alpha_by_nu, beta_by_nu, gamma_by_nu = load_exponents_from_file()"
   ]
  },
  {
   "cell_type": "code",
   "execution_count": 22,
   "metadata": {},
   "outputs": [
    {
     "name": "stdout",
     "output_type": "stream",
     "text": [
      "(79995, 3)\n",
      "(59996, 3)\n",
      "(99994, 3)\n",
      "(119993, 3)\n",
      "(39997, 3)\n"
     ]
    },
    {
     "data": {
      "text/plain": [
       "(-5, 5)"
      ]
     },
     "execution_count": 22,
     "metadata": {},
     "output_type": "execute_result"
    },
    {
     "data": {
      "image/png": "[encoded data removed]",
      "text/plain": [
       "<Figure size 720x576 with 1 Axes>"
      ]
     },
     "metadata": {},
     "output_type": "display_data"
    }
   ],
   "source": [
    "# one_by_nu -= 0.02\n",
    "# tc -= 0.00001\n",
    "\n",
    "fig=plt.figure(figsize=(10,8))\n",
    "for N in data.keys():\n",
    "    print(data[N].shape)\n",
    "    t, H, P = data[N].T\n",
    "    X = find_susceptibility(t, P, N)\n",
    "    x=(t-tc)*N**(one_by_nu)\n",
    "    y=X*N**(-gamma_by_nu)\n",
    "    plt.plot(x[1:], y, label='N={}k'.format(N//1000))\n",
    "    pass\n",
    "plt.legend()\n",
    "plt.xlim([-5, 5])"
   ]
  },
  {
   "cell_type": "code",
   "execution_count": 24,
   "metadata": {},
   "outputs": [],
   "source": [
    "tc = 0.997283232056865"
   ]
  },
  {
   "cell_type": "code",
   "execution_count": 33,
   "metadata": {},
   "outputs": [
    {
     "data": {
      "text/plain": [
       "0.5037072777685714"
      ]
     },
     "execution_count": 33,
     "metadata": {},
     "output_type": "execute_result"
    }
   ],
   "source": [
    "one_by_nu"
   ]
  },
  {
   "cell_type": "code",
   "execution_count": null,
   "metadata": {},
   "outputs": [],
   "source": []
  }
 ],
 "metadata": {
  "kernelspec": {
   "display_name": "Python 3",
   "language": "python",
   "name": "python3"
  },
  "language_info": {
   "codemirror_mode": {
    "name": "ipython",
    "version": 3
   },
   "file_extension": ".py",
   "mimetype": "text/x-python",
   "name": "python",
   "nbconvert_exporter": "python",
   "pygments_lexer": "ipython3",
   "version": "3.6.8"
  }
 },
 "nbformat": 4,
 "nbformat_minor": 2
}
