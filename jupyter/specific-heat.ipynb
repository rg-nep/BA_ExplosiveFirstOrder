{
 "cells": [
  {
   "cell_type": "markdown",
   "metadata": {},
   "source": [
    "# Specific Heat"
   ]
  },
  {
   "cell_type": "code",
   "execution_count": 1,
   "metadata": {},
   "outputs": [],
   "source": [
    "import numpy as np\n",
    "import seaborn as sns\n",
    "import matplotlib.pyplot as plt\n",
    "import os\n",
    "import json\n",
    "import glob\n",
    "import scipy.stats as stats\n",
    "import pandas as pd"
   ]
  },
  {
   "cell_type": "code",
   "execution_count": 2,
   "metadata": {},
   "outputs": [],
   "source": [
    "sns.set()"
   ]
  },
  {
   "cell_type": "code",
   "execution_count": 3,
   "metadata": {},
   "outputs": [],
   "source": [
    "data_root = '../data/entropy-order-convolved/'\n",
    "fig_root=\"../figures/\"\n",
    "# os.listdir(data_root)"
   ]
  },
  {
   "cell_type": "code",
   "execution_count": 35,
   "metadata": {},
   "outputs": [],
   "source": [
    "M=10\n",
    "m=10\n",
    "classname=\"BA_NetworkPercolationExplosive_v7\"\n",
    "signature=\"{}_N_*_m_10_M_{}_entropy-order_*fast.txt\".format(classname,M)"
   ]
  },
  {
   "cell_type": "code",
   "execution_count": 36,
   "metadata": {},
   "outputs": [],
   "source": [
    "files=glob.glob(data_root + signature)"
   ]
  },
  {
   "cell_type": "code",
   "execution_count": 37,
   "metadata": {},
   "outputs": [
    {
     "data": {
      "text/plain": [
       "'BA_NetworkPercolationExplosive_v7_N_*_m_10_M_10_entropy-order_*fast.txt'"
      ]
     },
     "execution_count": 37,
     "metadata": {},
     "output_type": "execute_result"
    }
   ],
   "source": [
    "signature"
   ]
  },
  {
   "cell_type": "code",
   "execution_count": 38,
   "metadata": {},
   "outputs": [
    {
     "data": {
      "text/plain": [
       "['../data/entropy-order-convolved/BA_NetworkPercolationExplosive_v7_N_800000_m_10_M_10_entropy-order_2019_avg.txt_convoluted_1times_fast.txt',\n",
       " '../data/entropy-order-convolved/BA_NetworkPercolationExplosive_v7_N_600000_m_10_M_10_entropy-order_2019_avg.txt_convoluted_1times_fast.txt',\n",
       " '../data/entropy-order-convolved/BA_NetworkPercolationExplosive_v7_N_1000000_m_10_M_10_entropy-order_2019_avg.txt_convoluted_1times_fast.txt',\n",
       " '../data/entropy-order-convolved/BA_NetworkPercolationExplosive_v7_N_1200000_m_10_M_10_entropy-order_2019_avg.txt_convoluted_1times_fast.txt',\n",
       " '../data/entropy-order-convolved/BA_NetworkPercolationExplosive_v7_N_400000_m_10_M_10_entropy-order_2019_avg.txt_convoluted_1times_fast.txt']"
      ]
     },
     "execution_count": 38,
     "metadata": {},
     "output_type": "execute_result"
    }
   ],
   "source": [
    "files"
   ]
  },
  {
   "cell_type": "markdown",
   "metadata": {},
   "source": [
    "### checking ensemble size"
   ]
  },
  {
   "cell_type": "code",
   "execution_count": 39,
   "metadata": {},
   "outputs": [
    {
     "name": "stdout",
     "output_type": "stream",
     "text": [
      "Ensemble sizes\n",
      "N= 800000   En= 20000\n",
      "N= 600000   En= 20000\n",
      "N= 1000000   En= 20000\n",
      "N= 1200000   En= 20000\n",
      "N= 400000   En= 20000\n"
     ]
    }
   ],
   "source": [
    "print(\"Ensemble sizes\")\n",
    "for file in files:\n",
    "    with open(file) as f:\n",
    "        line=f.readline()\n",
    "        head=json.loads(line[1:])\n",
    "        print(\"N=\", head['N'], \"  En=\", head['En'])"
   ]
  },
  {
   "cell_type": "code",
   "execution_count": 40,
   "metadata": {},
   "outputs": [],
   "source": [
    "def find_specific_heat(t, H, N):\n",
    "#     C = -t[1:]*np.diff(H)/np.diff(t)  # noisy data\n",
    "    C = -(1-t[1:])*np.diff(H)*N\n",
    "#     print(1/np.diff(t)[0])\n",
    "    \n",
    "#     print(np.diff(t)[0])\n",
    "#     print(np.diff(t)[1234])\n",
    "#     print(np.diff(t)[-1])\n",
    "    print(N)\n",
    "    return C\n",
    "\n",
    "def find_susceptibility(t, P, N):\n",
    "    sus=np.diff(P)*N\n",
    "    return sus"
   ]
  },
  {
   "cell_type": "code",
   "execution_count": 41,
   "metadata": {},
   "outputs": [],
   "source": [
    "tc=0.72775"
   ]
  },
  {
   "cell_type": "markdown",
   "metadata": {},
   "source": [
    "## Load data from file"
   ]
  },
  {
   "cell_type": "code",
   "execution_count": 48,
   "metadata": {},
   "outputs": [],
   "source": [
    "min_limit=0.98\n",
    "max_limit=1.08"
   ]
  },
  {
   "cell_type": "code",
   "execution_count": 49,
   "metadata": {},
   "outputs": [],
   "source": [
    "data=dict()\n",
    "for file in files:\n",
    "    with open(file) as f:\n",
    "        line=f.readline()\n",
    "        head=json.loads(line[1:])\n",
    "        N=int(head['N'])\n",
    "        M=int(head['M'])\n",
    "        m=int(head['m'])\n",
    "    X = np.loadtxt(file)\n",
    "    t=X[:,0]\n",
    "    index=(t > min_limit) & (t < max_limit)\n",
    "    data[N] = X[index]\n",
    "    "
   ]
  },
  {
   "cell_type": "code",
   "execution_count": 50,
   "metadata": {},
   "outputs": [
    {
     "name": "stdout",
     "output_type": "stream",
     "text": [
      "800000\n",
      "600000\n",
      "1000000\n",
      "1200000\n",
      "400000\n"
     ]
    },
    {
     "name": "stderr",
     "output_type": "stream",
     "text": [
      "/home/shahnoor/software/anaconda3/lib/python3.6/site-packages/ipykernel_launcher.py:10: UserWarning: Creating legend with loc=\"best\" can be slow with large amounts of data.\n",
      "  # Remove the CWD from sys.path while we load stuff.\n"
     ]
    },
    {
     "data": {
      "image/png": "[encoded data removed]",
      "text/plain": [
       "<Figure size 432x288 with 1 Axes>"
      ]
     },
     "metadata": {},
     "output_type": "display_data"
    }
   ],
   "source": [
    "for N in data.keys():\n",
    "#     print(data[N].shape)\n",
    "    t, H, P = data[N].T\n",
    "    X = find_specific_heat(t, H, N)\n",
    "    plt.plot(t[1:], X, label='N={}k'.format(N//1000))\n",
    "    pass\n",
    "plt.legend()\n",
    "# plt.xlim([0.723, 0.735])\n",
    "filename=fig_root + classname + \"specific_heat_m{}_M{}\".format(m, M)\n",
    "plt.savefig(filename)"
   ]
  },
  {
   "cell_type": "code",
   "execution_count": 51,
   "metadata": {},
   "outputs": [
    {
     "name": "stdout",
     "output_type": "stream",
     "text": [
      "800000\n",
      "600000\n",
      "1000000\n",
      "1200000\n",
      "400000\n",
      "[[800000, 0.997841, 6.5344654335998325], [600000, 0.997712, 5.759764217400112], [1000000, 0.997923, 7.2322753799989155], [1200000, 0.997982, 7.876493738398975], [400000, 0.997485, 4.873325198000576]]\n"
     ]
    },
    {
     "data": {
      "image/png": "[encoded data removed]",
      "text/plain": [
       "<Figure size 432x288 with 1 Axes>"
      ]
     },
     "metadata": {},
     "output_type": "display_data"
    }
   ],
   "source": [
    "critical = []\n",
    "for N in data.keys():\n",
    "#     print(data[N].shape)\n",
    "    t, H, P = data[N].T\n",
    "\n",
    "#     sns.distplot(np.diff(t), label=\"N={}k\".format(N//1000))\n",
    "    \n",
    "    X = find_specific_heat(t, H, N)\n",
    "    i = np.argmax(X)\n",
    "    \n",
    "    critical.append([N, t[i], X[i]])\n",
    "    plt.plot(t[1:], X, label='N={}k'.format(N//1000))\n",
    "    plt.plot(t[i], X[i], 'o')\n",
    "    \n",
    "    pass\n",
    "plt.legend()\n",
    "# plt.xlim([0.723, 0.735])\n",
    "print(critical)"
   ]
  },
  {
   "cell_type": "code",
   "execution_count": 52,
   "metadata": {},
   "outputs": [],
   "source": [
    "def find_exponent(X):\n",
    "    X=np.array(X)\n",
    "    print(X.shape)\n",
    "    plt.plot(np.log(X[:,0]), np.log(X[:,2]), 'o')\n",
    "    regress = stats.linregress(np.log(X[:,0]), np.log(X[:,2]))\n",
    "    print(regress)\n",
    "    y = regress[0] * np.log(X[:,0]) + regress[1]\n",
    "    plt.plot(np.log(X[:,0]), y)\n",
    "    return regress"
   ]
  },
  {
   "cell_type": "code",
   "execution_count": 53,
   "metadata": {},
   "outputs": [
    {
     "name": "stdout",
     "output_type": "stream",
     "text": [
      "(5, 3)\n",
      "LinregressResult(slope=0.4368156449584002, intercept=-4.055747441962132, rvalue=0.9996615116926066, pvalue=7.475277380931439e-06, stderr=0.006563487540813307)\n",
      "alpha/nu =  0.4368156449584002\n"
     ]
    },
    {
     "data": {
      "image/png": "[encoded data removed]",
      "text/plain": [
       "<Figure size 432x288 with 1 Axes>"
      ]
     },
     "metadata": {},
     "output_type": "display_data"
    }
   ],
   "source": [
    "regress = find_exponent(critical)\n",
    "print(\"alpha/nu = \", regress[0])"
   ]
  },
  {
   "cell_type": "markdown",
   "metadata": {},
   "source": [
    "\n",
    "### It is evident that increasing system size gets you closer to the critical point\n",
    "\n",
    "It flows the relation\n",
    "\n",
    "$(t(N)-t_c(\\infty)) N ^{1/\\nu} = const $\n",
    "\n",
    "$(t(N)-t_c) \\sim N ^{-1/\\nu}$\n",
    "\n",
    "$(t(N)-t_c(\\infty)) \\sim N^{-1/\\nu}$\n",
    "\n",
    "In the limit $N\\rightarrow \\infty$, $t(N) = t_c(\\infty)$\n",
    "\n",
    "If $1/\\nu$ is known then finding $t_c$ is very easy."
   ]
  },
  {
   "cell_type": "code",
   "execution_count": 54,
   "metadata": {},
   "outputs": [],
   "source": [
    "def find_tc(X, one_by_nu):\n",
    "    fig, axs = plt.subplots(1, 2, figsize=(12, 4))\n",
    "    X=np.array(X)\n",
    "    \n",
    "    axs[0].plot(X[:,0], X[:,1], 'o')\n",
    "    x = X[:,0]**(-one_by_nu)\n",
    "    y = X[:,1]\n",
    "    print(X.shape)\n",
    "    axs[1].plot(x, y, 'o')\n",
    "    regress = stats.linregress(x, y)\n",
    "    print(regress)\n",
    "    y = regress[0] * x + regress[1]\n",
    "    axs[1].plot(x, y)"
   ]
  },
  {
   "cell_type": "code",
   "execution_count": 56,
   "metadata": {},
   "outputs": [
    {
     "name": "stdout",
     "output_type": "stream",
     "text": [
      "(5, 3)\n",
      "LinregressResult(slope=-0.83573753636913, intercept=0.9986511635765238, rvalue=-0.9996311995439418, pvalue=8.501528301094217e-06, stderr=0.013108112365036936)\n"
     ]
    },
    {
     "data": {
      "image/png": "[encoded data removed]",
      "text/plain": [
       "<Figure size 864x288 with 2 Axes>"
      ]
     },
     "metadata": {},
     "output_type": "display_data"
    }
   ],
   "source": [
    "# one_by_nu = 0.5037072777685714\n",
    "one_by_nu = 0.51\n",
    "# one_by_nu = 0.5094789034354745\n",
    "find_tc(critical, one_by_nu)"
   ]
  },
  {
   "cell_type": "code",
   "execution_count": 61,
   "metadata": {},
   "outputs": [],
   "source": [
    "tc = 0.9913939600114202"
   ]
  },
  {
   "cell_type": "markdown",
   "metadata": {},
   "source": [
    "#### Data Collapse\n",
    "\n",
    "Read exponents from a file \n",
    "so that I don't have to type it every time"
   ]
  },
  {
   "cell_type": "code",
   "execution_count": 22,
   "metadata": {},
   "outputs": [
    {
     "name": "stdout",
     "output_type": "stream",
     "text": [
      "9\n",
      "0.997183232056865\n",
      "0.5107873978212114\n",
      "0.5020103214429655\n"
     ]
    }
   ],
   "source": [
    "filename = \"BA_explosive_exponents\"\n",
    "df = pd.read_csv(filename)\n",
    "df.index = df['M']\n",
    "\n",
    "tc = df['tc'][M]\n",
    "one_by_nu = df['one_by_nu'][M]\n",
    "alpha_by_nu = df['alpha_by_nu'][M]\n",
    "\n",
    "print(M)\n",
    "print(tc)\n",
    "print(one_by_nu)\n",
    "print(alpha_by_nu)\n",
    "# print(df)"
   ]
  },
  {
   "cell_type": "code",
   "execution_count": 34,
   "metadata": {},
   "outputs": [
    {
     "name": "stdout",
     "output_type": "stream",
     "text": [
      "600000\n",
      "1200000\n",
      "400000\n",
      "800000\n",
      "1000000\n"
     ]
    },
    {
     "data": {
      "text/plain": [
       "(-5, 5)"
      ]
     },
     "execution_count": 34,
     "metadata": {},
     "output_type": "execute_result"
    },
    {
     "data": {
      "image/png": "[encoded data removed]",
      "text/plain": [
       "<Figure size 576x360 with 1 Axes>"
      ]
     },
     "metadata": {},
     "output_type": "display_data"
    }
   ],
   "source": [
    "tc += 0.00005\n",
    "# one_by_nu -= 0.001\n",
    "\n",
    "plt.figure(figsize=(8, 5))\n",
    "for N in data.keys():\n",
    "#     print(data[N].shape)\n",
    "    t, H, P = data[N].T\n",
    "    X = find_specific_heat(t, H, N)\n",
    "    x=(t-tc)*N**(one_by_nu)\n",
    "    y=X*N**(-alpha_by_nu)\n",
    "    plt.plot(x[1:], y, label='N={}k'.format(N//1000))\n",
    "    pass\n",
    "plt.legend()\n",
    "plt.xlim([-5, 5])"
   ]
  },
  {
   "cell_type": "code",
   "execution_count": 24,
   "metadata": {},
   "outputs": [
    {
     "data": {
      "text/plain": [
       "0.997183232056865"
      ]
     },
     "execution_count": 24,
     "metadata": {},
     "output_type": "execute_result"
    }
   ],
   "source": [
    "tc"
   ]
  },
  {
   "cell_type": "code",
   "execution_count": 33,
   "metadata": {},
   "outputs": [],
   "source": [
    "tc = 0.997283232056865"
   ]
  },
  {
   "cell_type": "code",
   "execution_count": 60,
   "metadata": {},
   "outputs": [
    {
     "data": {
      "text/plain": [
       "0.9914139600114201"
      ]
     },
     "execution_count": 60,
     "metadata": {},
     "output_type": "execute_result"
    }
   ],
   "source": [
    "1.9828279200228403 / 2"
   ]
  },
  {
   "cell_type": "code",
   "execution_count": 79,
   "metadata": {},
   "outputs": [
    {
     "data": {
      "text/plain": [
       "0.99151"
      ]
     },
     "execution_count": 79,
     "metadata": {},
     "output_type": "execute_result"
    }
   ],
   "source": [
    "tc"
   ]
  },
  {
   "cell_type": "code",
   "execution_count": null,
   "metadata": {},
   "outputs": [],
   "source": []
  }
 ],
 "metadata": {
  "kernelspec": {
   "display_name": "Python 3",
   "language": "python",
   "name": "python3"
  },
  "language_info": {
   "codemirror_mode": {
    "name": "ipython",
    "version": 3
   },
   "file_extension": ".py",
   "mimetype": "text/x-python",
   "name": "python",
   "nbconvert_exporter": "python",
   "pygments_lexer": "ipython3",
   "version": "3.6.8"
  }
 },
 "nbformat": 4,
 "nbformat_minor": 2
}
